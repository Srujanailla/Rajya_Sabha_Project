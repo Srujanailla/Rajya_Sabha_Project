{
 "cells": [
  {
   "cell_type": "markdown",
   "metadata": {
    "slideshow": {
     "slide_type": "slide"
    }
   },
   "source": [
    "## <p style=\"text-align: center;\">TOOLS USED TILL DATE/ RATIONALE</p>\n",
    "<img src=\"Accomplished.png\" width=\"850px\" style=\"margin:20px auto;\">"
   ]
  },
  {
   "cell_type": "code",
   "execution_count": 1,
   "metadata": {
    "slideshow": {
     "slide_type": "skip"
    },
    "tags": [
     "hide-cell"
    ]
   },
   "outputs": [],
   "source": [
    "import pandas as pd\n",
    "import numpy as np\n",
    "import datetime\n",
    "\n",
    "import missingno as msno\n",
    "from plotnine import *\n",
    "import matplotlib.pyplot as plt\n",
    "import warnings\n",
    "import math\n",
    "import sqlite3\n",
    "warnings.filterwarnings(\"ignore\")\n",
    "\n",
    "# For pre-processing data \n",
    "from sklearn import preprocessing as pp \n",
    "from sklearn.compose import ColumnTransformer \n",
    "\n",
    "# For splits and CV\n",
    "from sklearn.model_selection import train_test_split\n",
    "from sklearn.model_selection import KFold # Cross validation \n",
    "from sklearn.model_selection import cross_validate # Cross validation \n",
    "from sklearn.model_selection import GridSearchCV # Cross validation + param. tuning.\n",
    "\n",
    "# Machine learning methods \n",
    "from sklearn.linear_model import LinearRegression as LM\n",
    "from sklearn.neighbors import KNeighborsRegressor as KNN\n",
    "from sklearn.tree import DecisionTreeRegressor as DTree\n",
    "from sklearn import tree # For plotting the decision tree rules\n",
    "from sklearn.ensemble import BaggingRegressor as Bag\n",
    "from sklearn.ensemble import RandomForestRegressor as RF\n",
    "from sklearn.neural_network import MLPRegressor\n",
    "from xgboost import XGBRegressor\n",
    "\n",
    "# For evaluating our model's performance\n",
    "import sklearn.metrics as metrics\n",
    "\n",
    "# Pipeline to combine modeling elements\n",
    "from sklearn.pipeline import Pipeline"
   ]
  },
  {
   "cell_type": "code",
   "execution_count": 2,
   "metadata": {
    "slideshow": {
     "slide_type": "skip"
    }
   },
   "outputs": [
    {
     "data": {
      "text/html": [
       "<div>\n",
       "<style scoped>\n",
       "    .dataframe tbody tr th:only-of-type {\n",
       "        vertical-align: middle;\n",
       "    }\n",
       "\n",
       "    .dataframe tbody tr th {\n",
       "        vertical-align: top;\n",
       "    }\n",
       "\n",
       "    .dataframe thead th {\n",
       "        text-align: right;\n",
       "    }\n",
       "</style>\n",
       "<table border=\"1\" class=\"dataframe\">\n",
       "  <thead>\n",
       "    <tr style=\"text-align: right;\">\n",
       "      <th></th>\n",
       "      <th>Member Name</th>\n",
       "      <th>Gender</th>\n",
       "      <th>Email ID</th>\n",
       "      <th>Delhi Address</th>\n",
       "      <th>Permanent Address</th>\n",
       "      <th>Whether Minister</th>\n",
       "      <th>Term Details</th>\n",
       "      <th>Number of Terms</th>\n",
       "      <th>State Name</th>\n",
       "      <th>Party Name</th>\n",
       "      <th>...</th>\n",
       "      <th>Freedom Fighter</th>\n",
       "      <th>Educational Qualification(s)</th>\n",
       "      <th>Other Profession(s)</th>\n",
       "      <th>Previous Membership</th>\n",
       "      <th>Position(s) Held</th>\n",
       "      <th>Book(s) Published</th>\n",
       "      <th>Activity(s)</th>\n",
       "      <th>Hobbies</th>\n",
       "      <th>Country(s) Visited</th>\n",
       "      <th>Essential Information</th>\n",
       "    </tr>\n",
       "  </thead>\n",
       "  <tbody>\n",
       "    <tr>\n",
       "      <th>0</th>\n",
       "      <td>Shri Jibon Roy</td>\n",
       "      <td>Male</td>\n",
       "      <td>jroy@sansad.nic.in; jibonroy@rediffmail.com</td>\n",
       "      <td>B-20, Prendra Mitra Bithi City Centre, Durgapur</td>\n",
       "      <td>35, St. Pauls Road, P.O. Durgapur (West Bengal)</td>\n",
       "      <td>No</td>\n",
       "      <td>9/08/1993 - 18/08/1999 , 19/08/1999 - 18/08/20...</td>\n",
       "      <td>2</td>\n",
       "      <td>West Bengal</td>\n",
       "      <td>Communist Party of India (Marxist)</td>\n",
       "      <td>...</td>\n",
       "      <td>No</td>\n",
       "      <td>Graduate in Commerce Educated at Calcutta Univ...</td>\n",
       "      <td>Industrial Worker</td>\n",
       "      <td>NaN</td>\n",
       "      <td>Aug. 1993 Elected to Rajya Sabha Member, Commi...</td>\n",
       "      <td>Several hundred pamphlets on Trade Union movem...</td>\n",
       "      <td>Associated with cultural activities with sever...</td>\n",
       "      <td>NaN</td>\n",
       "      <td>Erstwhile Soviet Union, China, Philippines, No...</td>\n",
       "      <td>Joined service at the age of sixteen in 1956 i...</td>\n",
       "    </tr>\n",
       "    <tr>\n",
       "      <th>1</th>\n",
       "      <td>Shri Kailash Joshi</td>\n",
       "      <td>Male</td>\n",
       "      <td>kjoshi@sansad.nic.in</td>\n",
       "      <td>C-604, Swarna Jayanti Sadan, Dr. B.D. Marg, Ne...</td>\n",
       "      <td>B-30, Swami Dayanand Nagar Bhopal</td>\n",
       "      <td>No</td>\n",
       "      <td>3/04/2000 - 02/04/2006 ,</td>\n",
       "      <td>1</td>\n",
       "      <td>Madhya Pradesh</td>\n",
       "      <td>Bharatiya Janata Party</td>\n",
       "      <td>...</td>\n",
       "      <td>No</td>\n",
       "      <td>Matriculation Educated at Govt. High School, H...</td>\n",
       "      <td>Agriculturist/Farmer</td>\n",
       "      <td>NaN</td>\n",
       "      <td>1955-60 President, Municipal Council, Hatpipal...</td>\n",
       "      <td>NaN</td>\n",
       "      <td>Set up a trust in the tribal area of District ...</td>\n",
       "      <td>NaN</td>\n",
       "      <td>NaN</td>\n",
       "      <td>Was Member, Bharatiya Jana Sangh</td>\n",
       "    </tr>\n",
       "    <tr>\n",
       "      <th>2</th>\n",
       "      <td>Shri Md. Salim</td>\n",
       "      <td>Male</td>\n",
       "      <td>salim@sansad.nic.in</td>\n",
       "      <td>407, V.P. House, New Delhi.</td>\n",
       "      <td>14/1D, Kabitirtha Sarani, P.O. Khidirpore, PS ...</td>\n",
       "      <td>No</td>\n",
       "      <td>3/04/1990 - 02/04/1996 , 03/04/1996 - 02/04/20...</td>\n",
       "      <td>2</td>\n",
       "      <td>West Bengal</td>\n",
       "      <td>Communist Party of India (Marxist)</td>\n",
       "      <td>...</td>\n",
       "      <td>No</td>\n",
       "      <td>M.A. (Philosophy) Educated at St. Barnabas Hig...</td>\n",
       "      <td>Political and Social Worker</td>\n",
       "      <td>NaN</td>\n",
       "      <td>1977-78 General Secretary, Maulana Azad Colleg...</td>\n",
       "      <td>Ex-Member, Editorial Board Chhatra Sangram (a ...</td>\n",
       "      <td>Engaged in organising students and youth and f...</td>\n",
       "      <td>Reading, music, watching movies, folk culture ...</td>\n",
       "      <td>Mongolia to attend a Round Table Discussion on...</td>\n",
       "      <td>Chairman, (i) West Bengal Minorities Developme...</td>\n",
       "    </tr>\n",
       "    <tr>\n",
       "      <th>3</th>\n",
       "      <td>Shri R.S. Gavai</td>\n",
       "      <td>Male</td>\n",
       "      <td>rsgavai@sansad.nic.in</td>\n",
       "      <td>NaN</td>\n",
       "      <td>(i) Kamal Pushp, 44, Congress Nagar, Amravati,...</td>\n",
       "      <td>No</td>\n",
       "      <td>3/04/2000 - 02/04/2006 ,</td>\n",
       "      <td>1</td>\n",
       "      <td>Maharashtra</td>\n",
       "      <td>Republican Party of India</td>\n",
       "      <td>...</td>\n",
       "      <td>No</td>\n",
       "      <td>Graduate Educated at Nagpur University (Mahara...</td>\n",
       "      <td>Agriculturist</td>\n",
       "      <td>NaN</td>\n",
       "      <td>1964-94 Member, Maharashtra Legislative Counci...</td>\n",
       "      <td>(i) Five Year Plan in relation to the Schedule...</td>\n",
       "      <td>Recipient of, (i) Kusta-Mitra Award and 'Frien...</td>\n",
       "      <td>Was President, Western Indian Football Associa...</td>\n",
       "      <td>U.S.S.R., U.S.A., U.K., Italy, France, Germany...</td>\n",
       "      <td>Took active part in political and social activ...</td>\n",
       "    </tr>\n",
       "    <tr>\n",
       "      <th>4</th>\n",
       "      <td>Shri Gaya Singh</td>\n",
       "      <td>Male</td>\n",
       "      <td>gaya@sansad.nic.in</td>\n",
       "      <td>4, Windsor POlace, New Delhi</td>\n",
       "      <td>(i) V&amp;PO Alanwa, Dist. Nalanda (Bihar Shariff)</td>\n",
       "      <td>No</td>\n",
       "      <td>8/07/1992 - 07/07/1998 , 08/07/1998 - 07/07/20...</td>\n",
       "      <td>2</td>\n",
       "      <td>Bihar</td>\n",
       "      <td>Communist Party of India</td>\n",
       "      <td>...</td>\n",
       "      <td>No</td>\n",
       "      <td>B.A. Educated at B.N. College, Patna University</td>\n",
       "      <td>Social Worker</td>\n",
       "      <td>NaN</td>\n",
       "      <td>1982 onwards Vice-President, Trade Union Inter...</td>\n",
       "      <td>NaN</td>\n",
       "      <td>Trade Union work</td>\n",
       "      <td>Football</td>\n",
       "      <td>France, Germany, Hungary, Bulgaria, Czechoslov...</td>\n",
       "      <td>Associated with (i) All India Students' Federa...</td>\n",
       "    </tr>\n",
       "  </tbody>\n",
       "</table>\n",
       "<p>5 rows × 29 columns</p>\n",
       "</div>"
      ],
      "text/plain": [
       "          Member Name Gender                                     Email ID  \\\n",
       "0      Shri Jibon Roy   Male  jroy@sansad.nic.in; jibonroy@rediffmail.com   \n",
       "1  Shri Kailash Joshi   Male                         kjoshi@sansad.nic.in   \n",
       "2      Shri Md. Salim   Male                          salim@sansad.nic.in   \n",
       "3     Shri R.S. Gavai   Male                        rsgavai@sansad.nic.in   \n",
       "4     Shri Gaya Singh   Male                           gaya@sansad.nic.in   \n",
       "\n",
       "                                       Delhi Address  \\\n",
       "0    B-20, Prendra Mitra Bithi City Centre, Durgapur   \n",
       "1  C-604, Swarna Jayanti Sadan, Dr. B.D. Marg, Ne...   \n",
       "2                        407, V.P. House, New Delhi.   \n",
       "3                                                NaN   \n",
       "4                       4, Windsor POlace, New Delhi   \n",
       "\n",
       "                                   Permanent Address Whether Minister  \\\n",
       "0    35, St. Pauls Road, P.O. Durgapur (West Bengal)               No   \n",
       "1                  B-30, Swami Dayanand Nagar Bhopal               No   \n",
       "2  14/1D, Kabitirtha Sarani, P.O. Khidirpore, PS ...               No   \n",
       "3  (i) Kamal Pushp, 44, Congress Nagar, Amravati,...               No   \n",
       "4     (i) V&PO Alanwa, Dist. Nalanda (Bihar Shariff)               No   \n",
       "\n",
       "                                        Term Details  Number of Terms  \\\n",
       "0  9/08/1993 - 18/08/1999 , 19/08/1999 - 18/08/20...                2   \n",
       "1                           3/04/2000 - 02/04/2006 ,                1   \n",
       "2  3/04/1990 - 02/04/1996 , 03/04/1996 - 02/04/20...                2   \n",
       "3                           3/04/2000 - 02/04/2006 ,                1   \n",
       "4  8/07/1992 - 07/07/1998 , 08/07/1998 - 07/07/20...                2   \n",
       "\n",
       "       State Name                          Party Name  ... Freedom Fighter  \\\n",
       "0     West Bengal  Communist Party of India (Marxist)  ...              No   \n",
       "1  Madhya Pradesh              Bharatiya Janata Party  ...              No   \n",
       "2     West Bengal  Communist Party of India (Marxist)  ...              No   \n",
       "3     Maharashtra           Republican Party of India  ...              No   \n",
       "4           Bihar            Communist Party of India  ...              No   \n",
       "\n",
       "                        Educational Qualification(s)  \\\n",
       "0  Graduate in Commerce Educated at Calcutta Univ...   \n",
       "1  Matriculation Educated at Govt. High School, H...   \n",
       "2  M.A. (Philosophy) Educated at St. Barnabas Hig...   \n",
       "3  Graduate Educated at Nagpur University (Mahara...   \n",
       "4    B.A. Educated at B.N. College, Patna University   \n",
       "\n",
       "           Other Profession(s) Previous Membership  \\\n",
       "0            Industrial Worker                 NaN   \n",
       "1         Agriculturist/Farmer                 NaN   \n",
       "2  Political and Social Worker                 NaN   \n",
       "3                Agriculturist                 NaN   \n",
       "4                Social Worker                 NaN   \n",
       "\n",
       "                                    Position(s) Held  \\\n",
       "0  Aug. 1993 Elected to Rajya Sabha Member, Commi...   \n",
       "1  1955-60 President, Municipal Council, Hatpipal...   \n",
       "2  1977-78 General Secretary, Maulana Azad Colleg...   \n",
       "3  1964-94 Member, Maharashtra Legislative Counci...   \n",
       "4  1982 onwards Vice-President, Trade Union Inter...   \n",
       "\n",
       "                                   Book(s) Published  \\\n",
       "0  Several hundred pamphlets on Trade Union movem...   \n",
       "1                                                NaN   \n",
       "2  Ex-Member, Editorial Board Chhatra Sangram (a ...   \n",
       "3  (i) Five Year Plan in relation to the Schedule...   \n",
       "4                                                NaN   \n",
       "\n",
       "                                         Activity(s)  \\\n",
       "0  Associated with cultural activities with sever...   \n",
       "1  Set up a trust in the tribal area of District ...   \n",
       "2  Engaged in organising students and youth and f...   \n",
       "3  Recipient of, (i) Kusta-Mitra Award and 'Frien...   \n",
       "4                                   Trade Union work   \n",
       "\n",
       "                                             Hobbies  \\\n",
       "0                                                NaN   \n",
       "1                                                NaN   \n",
       "2  Reading, music, watching movies, folk culture ...   \n",
       "3  Was President, Western Indian Football Associa...   \n",
       "4                                           Football   \n",
       "\n",
       "                                  Country(s) Visited  \\\n",
       "0  Erstwhile Soviet Union, China, Philippines, No...   \n",
       "1                                                NaN   \n",
       "2  Mongolia to attend a Round Table Discussion on...   \n",
       "3  U.S.S.R., U.S.A., U.K., Italy, France, Germany...   \n",
       "4  France, Germany, Hungary, Bulgaria, Czechoslov...   \n",
       "\n",
       "                               Essential Information  \n",
       "0  Joined service at the age of sixteen in 1956 i...  \n",
       "1                   Was Member, Bharatiya Jana Sangh  \n",
       "2  Chairman, (i) West Bengal Minorities Developme...  \n",
       "3  Took active part in political and social activ...  \n",
       "4  Associated with (i) All India Students' Federa...  \n",
       "\n",
       "[5 rows x 29 columns]"
      ]
     },
     "execution_count": 2,
     "metadata": {},
     "output_type": "execute_result"
    }
   ],
   "source": [
    "Member_bio_1952_2016 = pd.read_csv(r'C:/Users/hp/Untitled Folder/Project/Data/Member_biographical_data_1952_2016.csv') #reading in the data\n",
    "Member_bio_1952_2016.head()"
   ]
  },
  {
   "cell_type": "code",
   "execution_count": 3,
   "metadata": {
    "slideshow": {
     "slide_type": "skip"
    }
   },
   "outputs": [
    {
     "data": {
      "text/plain": [
       "Index(['Member Name', 'Gender', 'Email ID', 'Delhi Address',\n",
       "       'Permanent Address', 'Whether Minister', 'Term Details',\n",
       "       'Number of Terms', 'State Name', 'Party Name', 'Father Name',\n",
       "       'Mother Name', 'Date of Birth', 'Place of Birth', 'Marital Status',\n",
       "       'Date of Marriage', 'Spouse Name', 'No. of Sons', 'No. of Daughters',\n",
       "       'Freedom Fighter', 'Educational Qualification(s)',\n",
       "       'Other Profession(s)', 'Previous Membership', 'Position(s) Held',\n",
       "       'Book(s) Published', 'Activity(s)', 'Hobbies', 'Country(s) Visited',\n",
       "       'Essential Information'],\n",
       "      dtype='object')"
      ]
     },
     "execution_count": 3,
     "metadata": {},
     "output_type": "execute_result"
    }
   ],
   "source": [
    "Member_bio_1952_2016.columns"
   ]
  },
  {
   "cell_type": "code",
   "execution_count": 4,
   "metadata": {
    "slideshow": {
     "slide_type": "skip"
    }
   },
   "outputs": [
    {
     "data": {
      "text/plain": [
       "Index(['First Name', 'Last Name', 'Middle Name', 'Name', 'c_mp_state_code',\n",
       "       'c_mp_party_code', 'Nickname', 'E-mail Address', 'Home Street',\n",
       "       'Home City', 'Home Postal Code', 'Home State', 'Home Country/Region',\n",
       "       'Home Phone', 'Home Fax', 'Mobile Phone', 'Personal Web Page',\n",
       "       'Business Street', 'Business City', 'Business Postal Code',\n",
       "       'Business State', 'Business Country/Region', 'Business Web Page',\n",
       "       'Business Phone', 'Business Fax', 'Pager', 'Company', 'Job Title',\n",
       "       'Department', 'Office Location', 'Notes', 'Unnamed: 31'],\n",
       "      dtype='object')"
      ]
     },
     "execution_count": 4,
     "metadata": {},
     "output_type": "execute_result"
    }
   ],
   "source": [
    "Member_bio_2021 = pd.read_csv(r'C:/Users/hp/Untitled Folder/Project/Data/Member_biographical_data_2021.csv') #reading in the data\n",
    "Member_bio_2021.columns"
   ]
  },
  {
   "cell_type": "markdown",
   "metadata": {
    "slideshow": {
     "slide_type": "skip"
    }
   },
   "source": [
    "We have biographical information only till 2016, while we have Q&A dataset till 2017. \n",
    "####  Action item: After cross verfying with q&A data, we can scrape wikipeadia and India.gov profiles of the non-exisiting MPs"
   ]
  },
  {
   "cell_type": "code",
   "execution_count": 5,
   "metadata": {
    "slideshow": {
     "slide_type": "skip"
    }
   },
   "outputs": [],
   "source": [
    "RS_QA_2009 = pd.read_csv(r'C:/Users/hp/Untitled Folder/Project/Data/rajyasabha_questions_and_answers_2009.csv', encoding=\"ISO-8859-1\") #reading in the data\n",
    "RS_QA_2010 = pd.read_csv(r'C:/Users/hp/Untitled Folder/Project/Data/rajyasabha_questions_and_answers_2010.csv', encoding=\"ISO-8859-1\") #reading in the data\n",
    "RS_QA_2011 = pd.read_csv(r'C:/Users/hp/Untitled Folder/Project/Data/rajyasabha_questions_and_answers_2011.csv', encoding=\"ISO-8859-1\") #reading in the data\n",
    "RS_QA_2012 = pd.read_csv(r'C:/Users/hp/Untitled Folder/Project/Data/rajyasabha_questions_and_answers_2012.csv', encoding=\"ISO-8859-1\") #reading in the data\n",
    "RS_QA_2013 = pd.read_csv(r'C:/Users/hp/Untitled Folder/Project/Data/rajyasabha_questions_and_answers_2013.csv', encoding=\"ISO-8859-1\") #reading in the data\n",
    "RS_QA_2014 = pd.read_csv(r'C:/Users/hp/Untitled Folder/Project/Data/rajyasabha_questions_and_answers_2014.csv', encoding=\"ISO-8859-1\") #reading in the data\n",
    "RS_QA_2015 = pd.read_csv(r'C:/Users/hp/Untitled Folder/Project/Data/rajyasabha_questions_and_answers_2015.csv', encoding=\"ISO-8859-1\") #reading in the data\n",
    "RS_QA_2016 = pd.read_csv(r'C:/Users/hp/Untitled Folder/Project/Data/rajyasabha_questions_and_answers_2016.csv', encoding=\"ISO-8859-1\") #reading in the data\n",
    "RS_QA_2017 = pd.read_csv(r'C:/Users/hp/Untitled Folder/Project/Data/rajyasabha_questions_and_answers_2017.csv', encoding=\"ISO-8859-1\") #reading in the data\n"
   ]
  },
  {
   "cell_type": "code",
   "execution_count": 6,
   "metadata": {
    "slideshow": {
     "slide_type": "skip"
    }
   },
   "outputs": [
    {
     "data": {
      "text/html": [
       "<div>\n",
       "<style scoped>\n",
       "    .dataframe tbody tr th:only-of-type {\n",
       "        vertical-align: middle;\n",
       "    }\n",
       "\n",
       "    .dataframe tbody tr th {\n",
       "        vertical-align: top;\n",
       "    }\n",
       "\n",
       "    .dataframe thead th {\n",
       "        text-align: right;\n",
       "    }\n",
       "</style>\n",
       "<table border=\"1\" class=\"dataframe\">\n",
       "  <thead>\n",
       "    <tr style=\"text-align: right;\">\n",
       "      <th></th>\n",
       "      <th></th>\n",
       "      <th>question</th>\n",
       "      <th>answer_date</th>\n",
       "      <th>ministry</th>\n",
       "      <th>question_type</th>\n",
       "      <th>question_no</th>\n",
       "      <th>question_by</th>\n",
       "      <th>question_title</th>\n",
       "      <th>question_description</th>\n",
       "      <th>answer</th>\n",
       "      <th>id</th>\n",
       "    </tr>\n",
       "  </thead>\n",
       "  <tbody>\n",
       "    <tr>\n",
       "      <th rowspan=\"5\" valign=\"top\">2009</th>\n",
       "      <th>0</th>\n",
       "      <td>150000.0</td>\n",
       "      <td>16.12.2009</td>\n",
       "      <td>COMMERCE AND INDUSTRY</td>\n",
       "      <td>STARRED</td>\n",
       "      <td>396</td>\n",
       "      <td>SHRI ISHWAR SINGH</td>\n",
       "      <td>SPURT IN PRICES OF GOLD .</td>\n",
       "      <td>(a) whether Government is aware that there is ...</td>\n",
       "      <td>MINISTER OF COMMERCE AND INDUSTRY (SHRI ANAND ...</td>\n",
       "      <td>NaN</td>\n",
       "    </tr>\n",
       "    <tr>\n",
       "      <th>1</th>\n",
       "      <td>150001.0</td>\n",
       "      <td>16.12.2009</td>\n",
       "      <td>COMMERCE AND INDUSTRY</td>\n",
       "      <td>UNSTARRED</td>\n",
       "      <td>2927</td>\n",
       "      <td>Dr. T. Subbarami Reddy</td>\n",
       "      <td>OPENING OF TRADE CENTRES IN LATIN AMERICAN COU...</td>\n",
       "      <td>(a) whether in order to capitalize on the lull...</td>\n",
       "      <td>MINISTER OF COMMERCE AND INDUSTRY (SHRI ANAND ...</td>\n",
       "      <td>NaN</td>\n",
       "    </tr>\n",
       "    <tr>\n",
       "      <th>2</th>\n",
       "      <td>150002.0</td>\n",
       "      <td>16.12.2009</td>\n",
       "      <td>COMMERCE AND INDUSTRY</td>\n",
       "      <td>UNSTARRED</td>\n",
       "      <td>2929</td>\n",
       "      <td>SHRI SHREEGOPAL VYAS</td>\n",
       "      <td>EARLY EXIT OF CHINESE BUSINESSMEN FROM TRADE F...</td>\n",
       "      <td>(a) whether the Chinese businessmen packed of ...</td>\n",
       "      <td>MINISTER OF COMMERCE AND INDUSTRY ( SHRI ANAND...</td>\n",
       "      <td>NaN</td>\n",
       "    </tr>\n",
       "    <tr>\n",
       "      <th>3</th>\n",
       "      <td>150003.0</td>\n",
       "      <td>16.12.2009</td>\n",
       "      <td>COMMERCE AND INDUSTRY</td>\n",
       "      <td>UNSTARRED</td>\n",
       "      <td>2931</td>\n",
       "      <td>Smt. Kusum Rai</td>\n",
       "      <td>DONATION BY STC AND MMTC TO STUDENT WINGS OF P...</td>\n",
       "      <td>to answer to Starred Question 97 given in the ...</td>\n",
       "      <td>MINISTER OF COMMERCE AND INDUSTRY ( SHRI ANAND...</td>\n",
       "      <td>NaN</td>\n",
       "    </tr>\n",
       "    <tr>\n",
       "      <th>4</th>\n",
       "      <td>150004.0</td>\n",
       "      <td>16.12.2009</td>\n",
       "      <td>COMMERCE AND INDUSTRY</td>\n",
       "      <td>UNSTARRED</td>\n",
       "      <td>2932</td>\n",
       "      <td>SHRI GIREESH KUMAR SANGHI</td>\n",
       "      <td>ENVISAGED EXPORT EARNING TARGETS .</td>\n",
       "      <td>(a) the envisaged export earning targets for t...</td>\n",
       "      <td>MINISTER OF COMMERCE AND INDUSTRY ( SHRI ANAND...</td>\n",
       "      <td>NaN</td>\n",
       "    </tr>\n",
       "  </tbody>\n",
       "</table>\n",
       "</div>"
      ],
      "text/plain": [
       "        question answer_date               ministry question_type  \\\n",
       "2009 0  150000.0  16.12.2009  COMMERCE AND INDUSTRY       STARRED   \n",
       "     1  150001.0  16.12.2009  COMMERCE AND INDUSTRY     UNSTARRED   \n",
       "     2  150002.0  16.12.2009  COMMERCE AND INDUSTRY     UNSTARRED   \n",
       "     3  150003.0  16.12.2009  COMMERCE AND INDUSTRY     UNSTARRED   \n",
       "     4  150004.0  16.12.2009  COMMERCE AND INDUSTRY     UNSTARRED   \n",
       "\n",
       "        question_no                question_by  \\\n",
       "2009 0          396          SHRI ISHWAR SINGH   \n",
       "     1         2927     Dr. T. Subbarami Reddy   \n",
       "     2         2929       SHRI SHREEGOPAL VYAS   \n",
       "     3         2931             Smt. Kusum Rai   \n",
       "     4         2932  SHRI GIREESH KUMAR SANGHI   \n",
       "\n",
       "                                           question_title  \\\n",
       "2009 0                          SPURT IN PRICES OF GOLD .   \n",
       "     1  OPENING OF TRADE CENTRES IN LATIN AMERICAN COU...   \n",
       "     2  EARLY EXIT OF CHINESE BUSINESSMEN FROM TRADE F...   \n",
       "     3  DONATION BY STC AND MMTC TO STUDENT WINGS OF P...   \n",
       "     4                 ENVISAGED EXPORT EARNING TARGETS .   \n",
       "\n",
       "                                     question_description  \\\n",
       "2009 0  (a) whether Government is aware that there is ...   \n",
       "     1  (a) whether in order to capitalize on the lull...   \n",
       "     2  (a) whether the Chinese businessmen packed of ...   \n",
       "     3  to answer to Starred Question 97 given in the ...   \n",
       "     4  (a) the envisaged export earning targets for t...   \n",
       "\n",
       "                                                   answer  id  \n",
       "2009 0  MINISTER OF COMMERCE AND INDUSTRY (SHRI ANAND ... NaN  \n",
       "     1  MINISTER OF COMMERCE AND INDUSTRY (SHRI ANAND ... NaN  \n",
       "     2  MINISTER OF COMMERCE AND INDUSTRY ( SHRI ANAND... NaN  \n",
       "     3  MINISTER OF COMMERCE AND INDUSTRY ( SHRI ANAND... NaN  \n",
       "     4  MINISTER OF COMMERCE AND INDUSTRY ( SHRI ANAND... NaN  "
      ]
     },
     "execution_count": 6,
     "metadata": {},
     "output_type": "execute_result"
    }
   ],
   "source": [
    "frames = [RS_QA_2009, RS_QA_2010, RS_QA_2011, RS_QA_2012, RS_QA_2013, RS_QA_2014, RS_QA_2015, RS_QA_2016, RS_QA_2017]\n",
    "RS_QA_2009_2017 = pd.concat(frames, keys=[\"2009\", \"2010\", \"2011\", \"2012\", \"2013\", \"2014\", \"2015\", \"2016\", \"2017\"])\n",
    "RS_QA_2009_2017.head()"
   ]
  },
  {
   "cell_type": "code",
   "execution_count": 7,
   "metadata": {
    "slideshow": {
     "slide_type": "skip"
    }
   },
   "outputs": [
    {
     "data": {
      "text/plain": [
       "Index(['question', 'answer_date', 'ministry', 'question_type', 'question_no',\n",
       "       'question_by', 'question_title', 'question_description', 'answer',\n",
       "       'id'],\n",
       "      dtype='object')"
      ]
     },
     "execution_count": 7,
     "metadata": {},
     "output_type": "execute_result"
    }
   ],
   "source": [
    "RS_QA_2009_2017.columns"
   ]
  },
  {
   "cell_type": "code",
   "execution_count": 8,
   "metadata": {
    "slideshow": {
     "slide_type": "skip"
    }
   },
   "outputs": [],
   "source": [
    "#We iteratively check the distribution of all predictors to assess which standardizing method could be used\n",
    "fig =( \n",
    "    ggplot(RS_QA_2017,aes(x='ministry')) +\n",
    "    geom_bar(color =\"white\", fill=\"darkblue\") +\n",
    "    theme_minimal() +\n",
    "    theme(figure_size = (10,3))+\n",
    "    theme(axis_text_x  = element_text(angle = 90, hjust = 1))+\n",
    "    labs(x = \"Ministries\",y=\"Number of Questions\")+\n",
    "    ggtitle(\"Question count by Ministry (2017)\")+\n",
    "    theme(axis_title=element_text(size=10,face=\"bold\", color ='black' ))+\n",
    "    theme(plot_title =element_text(size=15, face=\"bold\", color ='black'))+\n",
    "    annotate('text', x=\"CULTURE\",y=450, label='Source:rajyasabha.nic.in', color='black', size=10)\n",
    ")"
   ]
  },
  {
   "cell_type": "code",
   "execution_count": 9,
   "metadata": {
    "slideshow": {
     "slide_type": "slide"
    }
   },
   "outputs": [
    {
     "data": {
      "image/png": "[encoded data removed]",
      "text/plain": [
       "<Figure size 1000x300 with 1 Axes>"
      ]
     },
     "metadata": {
      "needs_background": "light"
     },
     "output_type": "display_data"
    },
    {
     "name": "stdout",
     "output_type": "stream",
     "text": [
      "\n"
     ]
    }
   ],
   "source": [
    "print(fig)"
   ]
  },
  {
   "cell_type": "code",
   "execution_count": 10,
   "metadata": {
    "slideshow": {
     "slide_type": "skip"
    }
   },
   "outputs": [],
   "source": [
    "#(Metric - no of questions/session, each MP will have different metric value for each term, plot (bar plot, sorted by metric, color by party)\n",
    "\n"
   ]
  },
  {
   "cell_type": "code",
   "execution_count": 11,
   "metadata": {
    "slideshow": {
     "slide_type": "skip"
    }
   },
   "outputs": [],
   "source": [
    "connection = sqlite3.connect(\"MP_attendance.sqlite\")"
   ]
  },
  {
   "cell_type": "code",
   "execution_count": 12,
   "metadata": {
    "slideshow": {
     "slide_type": "skip"
    }
   },
   "outputs": [],
   "source": [
    "session_200=pd.read_sql(\"select * from session_200\",connection)"
   ]
  },
  {
   "cell_type": "code",
   "execution_count": 13,
   "metadata": {
    "slideshow": {
     "slide_type": "skip"
    }
   },
   "outputs": [
    {
     "data": {
      "text/html": [
       "<div>\n",
       "<style scoped>\n",
       "    .dataframe tbody tr th:only-of-type {\n",
       "        vertical-align: middle;\n",
       "    }\n",
       "\n",
       "    .dataframe tbody tr th {\n",
       "        vertical-align: top;\n",
       "    }\n",
       "\n",
       "    .dataframe thead th {\n",
       "        text-align: right;\n",
       "    }\n",
       "</style>\n",
       "<table border=\"1\" class=\"dataframe\">\n",
       "  <thead>\n",
       "    <tr style=\"text-align: right;\">\n",
       "      <th></th>\n",
       "      <th>DIV NO</th>\n",
       "      <th>NAME OF THE MEMBER</th>\n",
       "      <th>No. of days attended</th>\n",
       "      <th>session_no</th>\n",
       "    </tr>\n",
       "  </thead>\n",
       "  <tbody>\n",
       "    <tr>\n",
       "      <th>50</th>\n",
       "      <td>51</td>\n",
       "      <td>Ray,  Shri Dilip</td>\n",
       "      <td>05</td>\n",
       "      <td>200</td>\n",
       "    </tr>\n",
       "    <tr>\n",
       "      <th>14</th>\n",
       "      <td>15</td>\n",
       "      <td>Kripal, Shri  Parmar</td>\n",
       "      <td>20</td>\n",
       "      <td>200</td>\n",
       "    </tr>\n",
       "    <tr>\n",
       "      <th>40</th>\n",
       "      <td>41</td>\n",
       "      <td>Mishra, Shri  Kalraj</td>\n",
       "      <td>15</td>\n",
       "      <td>200</td>\n",
       "    </tr>\n",
       "    <tr>\n",
       "      <th>248</th>\n",
       "      <td>249</td>\n",
       "      <td>None</td>\n",
       "      <td>None</td>\n",
       "      <td>200</td>\n",
       "    </tr>\n",
       "    <tr>\n",
       "      <th>39</th>\n",
       "      <td>40</td>\n",
       "      <td>Agarwalla, Shri  Parmeshwar Kumar</td>\n",
       "      <td>17</td>\n",
       "      <td>200</td>\n",
       "    </tr>\n",
       "  </tbody>\n",
       "</table>\n",
       "</div>"
      ],
      "text/plain": [
       "    DIV NO                 NAME OF THE MEMBER No. of days attended session_no\n",
       "50      51                   Ray,  Shri Dilip                   05        200\n",
       "14      15               Kripal, Shri  Parmar                   20        200\n",
       "40      41               Mishra, Shri  Kalraj                   15        200\n",
       "248    249                               None                 None        200\n",
       "39      40  Agarwalla, Shri  Parmeshwar Kumar                   17        200"
      ]
     },
     "execution_count": 13,
     "metadata": {},
     "output_type": "execute_result"
    }
   ],
   "source": [
    "session_200.sample(5)"
   ]
  },
  {
   "cell_type": "code",
   "execution_count": null,
   "metadata": {},
   "outputs": [],
   "source": [
    "connection.close()"
   ]
  },
  {
   "cell_type": "code",
   "execution_count": 14,
   "metadata": {
    "slideshow": {
     "slide_type": "skip"
    }
   },
   "outputs": [],
   "source": [
    "#PM, Minister, LOP and HDC are not required to record their signature.\n",
    "Exception = ['M','HDC','LOP','None']\n",
    "session_200_filtered = session_200[~session_200[\"No. of days attended\"].isin(Exception)]\n",
    "session_200_filtered = session_200_filtered.dropna(subset=['No. of days attended'])\n",
    "fig2 =(\n",
    "    ggplot(session_200_filtered,aes(x=\"No. of days attended\")) +\n",
    "    geom_bar(color =\"black\", fill=\"darkgreen\")+\n",
    "    theme_bw()+\n",
    "    theme(figure_size=(15,7))+\n",
    "    #geom_text(aes(label='active'), size=10) +\n",
    "    labs(x = \"Attendance\",y=\"Number of MPs\")+\n",
    "    ggtitle(\"Rajya Shaba: Absenteeism (session 200)\")+\n",
    "    theme(axis_title=element_text(size=15,face=\"bold\",style ='italic', color ='black' ))+\n",
    "    theme(plot_title =element_text(size=20, face=\"bold\", color ='black') )+\n",
    "    annotate('text', x=3,y=30, label='Source:rajyasabha.nic.in', color='black', size=15)\n",
    ")"
   ]
  },
  {
   "cell_type": "code",
   "execution_count": 15,
   "metadata": {
    "scrolled": true,
    "slideshow": {
     "slide_type": "slide"
    }
   },
   "outputs": [
    {
     "data": {
      "image/png": "[encoded data removed]",
      "text/plain": [
       "<Figure size 1500x700 with 1 Axes>"
      ]
     },
     "metadata": {},
     "output_type": "display_data"
    },
    {
     "name": "stdout",
     "output_type": "stream",
     "text": [
      "\n"
     ]
    }
   ],
   "source": [
    "print(fig2)"
   ]
  },
  {
   "cell_type": "code",
   "execution_count": 78,
   "metadata": {},
   "outputs": [
    {
     "data": {
      "text/html": [
       "<div>\n",
       "<style scoped>\n",
       "    .dataframe tbody tr th:only-of-type {\n",
       "        vertical-align: middle;\n",
       "    }\n",
       "\n",
       "    .dataframe tbody tr th {\n",
       "        vertical-align: top;\n",
       "    }\n",
       "\n",
       "    .dataframe thead th {\n",
       "        text-align: right;\n",
       "    }\n",
       "</style>\n",
       "<table border=\"1\" class=\"dataframe\">\n",
       "  <thead>\n",
       "    <tr style=\"text-align: right;\">\n",
       "      <th></th>\n",
       "      <th>DIV_NO</th>\n",
       "      <th>Member_name</th>\n",
       "      <th>no_of_days_attended</th>\n",
       "      <th>session_no</th>\n",
       "      <th>attendance_rate</th>\n",
       "    </tr>\n",
       "  </thead>\n",
       "  <tbody>\n",
       "    <tr>\n",
       "      <th>4</th>\n",
       "      <td>5</td>\n",
       "      <td>Patel, Shri  Keshubhai S.</td>\n",
       "      <td>11</td>\n",
       "      <td>200</td>\n",
       "      <td>0.52</td>\n",
       "    </tr>\n",
       "    <tr>\n",
       "      <th>5</th>\n",
       "      <td>6</td>\n",
       "      <td>Krishnamurthy K., Shri Jana</td>\n",
       "      <td>06</td>\n",
       "      <td>200</td>\n",
       "      <td>0.29</td>\n",
       "    </tr>\n",
       "    <tr>\n",
       "      <th>7</th>\n",
       "      <td>8</td>\n",
       "      <td>Singhvi, Dr. L.M.</td>\n",
       "      <td>20</td>\n",
       "      <td>200</td>\n",
       "      <td>0.95</td>\n",
       "    </tr>\n",
       "    <tr>\n",
       "      <th>8</th>\n",
       "      <td>9</td>\n",
       "      <td>Mishra, Shri  Dina Nath</td>\n",
       "      <td>20</td>\n",
       "      <td>200</td>\n",
       "      <td>0.95</td>\n",
       "    </tr>\n",
       "    <tr>\n",
       "      <th>9</th>\n",
       "      <td>10</td>\n",
       "      <td>Judev, Shri  Dilip Singh</td>\n",
       "      <td>09</td>\n",
       "      <td>200</td>\n",
       "      <td>0.43</td>\n",
       "    </tr>\n",
       "  </tbody>\n",
       "</table>\n",
       "</div>"
      ],
      "text/plain": [
       "  DIV_NO                  Member_name no_of_days_attended session_no  \\\n",
       "4      5    Patel, Shri  Keshubhai S.                  11        200   \n",
       "5      6  Krishnamurthy K., Shri Jana                  06        200   \n",
       "7      8            Singhvi, Dr. L.M.                  20        200   \n",
       "8      9      Mishra, Shri  Dina Nath                  20        200   \n",
       "9     10     Judev, Shri  Dilip Singh                  09        200   \n",
       "\n",
       "   attendance_rate  \n",
       "4             0.52  \n",
       "5             0.29  \n",
       "7             0.95  \n",
       "8             0.95  \n",
       "9             0.43  "
      ]
     },
     "execution_count": 78,
     "metadata": {},
     "output_type": "execute_result"
    }
   ],
   "source": [
    "\n",
    "attendance_rate=[]\n",
    "for index, row in session_200_filtered.iterrows():\n",
    "    \n",
    "    session = row['session_no']\n",
    "    session_max_attendance= session_200_filtered[session_200_filtered['session_no']=='200'].no_of_days_attended.max()\n",
    "    a_rate=round(int(row['no_of_days_attended'])/int(session_max_attendance),2)\n",
    "    attendance_rate.append(a_rate)\n",
    "    \n",
    "session_200_filtered['attendance_rate'] = attendance_rate\n",
    "session_200_filtered.head()"
   ]
  },
  {
   "cell_type": "markdown",
   "metadata": {},
   "source": [
    "# Join all attendance datasets and do the same"
   ]
  },
  {
   "cell_type": "code",
   "execution_count": 16,
   "metadata": {
    "slideshow": {
     "slide_type": "skip"
    }
   },
   "outputs": [
    {
     "data": {
      "text/plain": [
       "No. of days attended\n",
       "00     2\n",
       "02     2\n",
       "03     4\n",
       "04     5\n",
       "05     5\n",
       "06     3\n",
       "07     8\n",
       "08     3\n",
       "09     6\n",
       "10    12\n",
       "11     7\n",
       "12     7\n",
       "13    12\n",
       "14    10\n",
       "15    18\n",
       "16    20\n",
       "17    25\n",
       "18    22\n",
       "19    27\n",
       "20    30\n",
       "21     1\n",
       "dtype: int64"
      ]
     },
     "execution_count": 16,
     "metadata": {},
     "output_type": "execute_result"
    }
   ],
   "source": [
    "  #geom_text(aes(label = car_count), vjust = -0.2, size = 5,\n",
    "  #          position = position_dodge(0.9)) +\n",
    "\n",
    "#data=pd.pivot_table(CC_subset, index=['primary_type', 'month'], columns='day', values=None, aggfunc=len,fill_value=0).round(2)\n",
    "#data=pd.DataFrame(data.to_records())\n",
    "\n",
    "\n",
    "session_200_filtered.groupby([\"No. of days attended\"]).size()"
   ]
  },
  {
   "cell_type": "code",
   "execution_count": 17,
   "metadata": {
    "slideshow": {
     "slide_type": "skip"
    }
   },
   "outputs": [
    {
     "data": {
      "text/html": [
       "<div>\n",
       "<style scoped>\n",
       "    .dataframe tbody tr th:only-of-type {\n",
       "        vertical-align: middle;\n",
       "    }\n",
       "\n",
       "    .dataframe tbody tr th {\n",
       "        vertical-align: top;\n",
       "    }\n",
       "\n",
       "    .dataframe thead th {\n",
       "        text-align: right;\n",
       "    }\n",
       "</style>\n",
       "<table border=\"1\" class=\"dataframe\">\n",
       "  <thead>\n",
       "    <tr style=\"text-align: right;\">\n",
       "      <th></th>\n",
       "      <th>id</th>\n",
       "      <th>answer_date</th>\n",
       "      <th>ministry</th>\n",
       "      <th>question_type</th>\n",
       "      <th>question_no</th>\n",
       "      <th>question_by</th>\n",
       "      <th>question_title</th>\n",
       "      <th>question_description</th>\n",
       "      <th>answer</th>\n",
       "    </tr>\n",
       "  </thead>\n",
       "  <tbody>\n",
       "    <tr>\n",
       "      <th>0</th>\n",
       "      <td>231247</td>\n",
       "      <td>02.02.2017</td>\n",
       "      <td>ATOMIC ENERGY</td>\n",
       "      <td>STARRED</td>\n",
       "      <td>13</td>\n",
       "      <td>Shri A. K. Selvaraj</td>\n",
       "      <td>Status of second reactor of KNPP</td>\n",
       "      <td>(a)whether it is a fact that the second reacto...</td>\n",
       "      <td>THE MINISTER OF STATE FOR PERSONNEL, PUBLIC GR...</td>\n",
       "    </tr>\n",
       "    <tr>\n",
       "      <th>1</th>\n",
       "      <td>231248</td>\n",
       "      <td>02.02.2017</td>\n",
       "      <td>EXTERNAL AFFAIRS</td>\n",
       "      <td>STARRED</td>\n",
       "      <td>8</td>\n",
       "      <td>Shri P.L. Punia</td>\n",
       "      <td>Sale of items with images of Indian tricolour</td>\n",
       "      <td>Will the Minister of EXTERNAL AFFAIRS be pleas...</td>\n",
       "      <td>THE MINISTER FOR EXTERNAL AFFAIRS (SHRIMATI SU...</td>\n",
       "    </tr>\n",
       "    <tr>\n",
       "      <th>2</th>\n",
       "      <td>231249</td>\n",
       "      <td>02.02.2017</td>\n",
       "      <td>HOUSING AND URBAN POVERTY ALLEVIATION</td>\n",
       "      <td>STARRED</td>\n",
       "      <td>4</td>\n",
       "      <td>Dr. V. Maitreyan</td>\n",
       "      <td>Assistance to Tamil Nadu for construction of h...</td>\n",
       "      <td>Will the Minister of HOUSING AND URBAN POVERTY...</td>\n",
       "      <td>THE MINISTER OF HOUSING &amp; URBAN POVERTY ALLEVI...</td>\n",
       "    </tr>\n",
       "    <tr>\n",
       "      <th>3</th>\n",
       "      <td>231250</td>\n",
       "      <td>02.02.2017</td>\n",
       "      <td>HOUSING AND URBAN POVERTY ALLEVIATION</td>\n",
       "      <td>STARRED</td>\n",
       "      <td>11</td>\n",
       "      <td>Dr. Vikas Mahatme</td>\n",
       "      <td>Prefabricated toilets for the poor</td>\n",
       "      <td>Will the Minister of URBAN DEVELOPMENT be plea...</td>\n",
       "      <td>THE MINISTER OF URBAN DEVELOPMENT(SHRI M. VENK...</td>\n",
       "    </tr>\n",
       "    <tr>\n",
       "      <th>4</th>\n",
       "      <td>231251</td>\n",
       "      <td>02.02.2017</td>\n",
       "      <td>HUMAN RESOURCE DEVELOPMENT</td>\n",
       "      <td>STARRED</td>\n",
       "      <td>2</td>\n",
       "      <td>Smt. Chhaya Verma</td>\n",
       "      <td>UGC norms on ad hoc teachers working in D.U.</td>\n",
       "      <td>(a) the details of vacancies in various univer...</td>\n",
       "      <td>MINISTER OF HUMAN RESOURCE DEVELOPMENT(SHRI PR...</td>\n",
       "    </tr>\n",
       "  </tbody>\n",
       "</table>\n",
       "</div>"
      ],
      "text/plain": [
       "       id answer_date                               ministry question_type  \\\n",
       "0  231247  02.02.2017                          ATOMIC ENERGY    STARRED      \n",
       "1  231248  02.02.2017                       EXTERNAL AFFAIRS    STARRED      \n",
       "2  231249  02.02.2017  HOUSING AND URBAN POVERTY ALLEVIATION    STARRED      \n",
       "3  231250  02.02.2017  HOUSING AND URBAN POVERTY ALLEVIATION    STARRED      \n",
       "4  231251  02.02.2017             HUMAN RESOURCE DEVELOPMENT    STARRED      \n",
       "\n",
       "   question_no          question_by  \\\n",
       "0           13  Shri A. K. Selvaraj   \n",
       "1            8      Shri P.L. Punia   \n",
       "2            4     Dr. V. Maitreyan   \n",
       "3           11    Dr. Vikas Mahatme   \n",
       "4            2    Smt. Chhaya Verma   \n",
       "\n",
       "                                      question_title  \\\n",
       "0                   Status of second reactor of KNPP   \n",
       "1      Sale of items with images of Indian tricolour   \n",
       "2  Assistance to Tamil Nadu for construction of h...   \n",
       "3                 Prefabricated toilets for the poor   \n",
       "4       UGC norms on ad hoc teachers working in D.U.   \n",
       "\n",
       "                                question_description  \\\n",
       "0  (a)whether it is a fact that the second reacto...   \n",
       "1  Will the Minister of EXTERNAL AFFAIRS be pleas...   \n",
       "2  Will the Minister of HOUSING AND URBAN POVERTY...   \n",
       "3  Will the Minister of URBAN DEVELOPMENT be plea...   \n",
       "4  (a) the details of vacancies in various univer...   \n",
       "\n",
       "                                              answer  \n",
       "0  THE MINISTER OF STATE FOR PERSONNEL, PUBLIC GR...  \n",
       "1  THE MINISTER FOR EXTERNAL AFFAIRS (SHRIMATI SU...  \n",
       "2  THE MINISTER OF HOUSING & URBAN POVERTY ALLEVI...  \n",
       "3  THE MINISTER OF URBAN DEVELOPMENT(SHRI M. VENK...  \n",
       "4  MINISTER OF HUMAN RESOURCE DEVELOPMENT(SHRI PR...  "
      ]
     },
     "execution_count": 17,
     "metadata": {},
     "output_type": "execute_result"
    }
   ],
   "source": [
    "RS_QA_2017.head()"
   ]
  },
  {
   "cell_type": "code",
   "execution_count": 18,
   "metadata": {
    "slideshow": {
     "slide_type": "skip"
    }
   },
   "outputs": [
    {
     "data": {
      "text/plain": [
       "id                       int64\n",
       "answer_date             object\n",
       "ministry                object\n",
       "question_type           object\n",
       "question_no              int64\n",
       "question_by             object\n",
       "question_title          object\n",
       "question_description    object\n",
       "answer                  object\n",
       "dtype: object"
      ]
     },
     "execution_count": 18,
     "metadata": {},
     "output_type": "execute_result"
    }
   ],
   "source": [
    "RS_QA_2017.dtypes"
   ]
  },
  {
   "cell_type": "code",
   "execution_count": 19,
   "metadata": {
    "slideshow": {
     "slide_type": "skip"
    }
   },
   "outputs": [
    {
     "name": "stdout",
     "output_type": "stream",
     "text": [
      "1973-01-25\n"
     ]
    }
   ],
   "source": [
    "#datetimeobject = [(date_input.strftime('%m/%d/%Y')) for date_input in RS_QA_2017['answer_date']]\n",
    "#RS_QA_2017['answer_date'] = RS_QA_2017.to_datetime(RS_QA_2017['answer_date'])\n",
    "d = datetime.datetime.strptime(\"25-01-1973\", \"%d-%m-%Y\")\n",
    "d = d.date()\n",
    "x=print(d.isoformat())\n",
    "x\n"
   ]
  },
  {
   "cell_type": "code",
   "execution_count": 20,
   "metadata": {
    "slideshow": {
     "slide_type": "skip"
    }
   },
   "outputs": [
    {
     "data": {
      "text/plain": [
       "'02.02.2017'"
      ]
     },
     "execution_count": 20,
     "metadata": {},
     "output_type": "execute_result"
    }
   ],
   "source": [
    "\n",
    "RS_QA_2017['answer_date'][0]"
   ]
  },
  {
   "cell_type": "code",
   "execution_count": 21,
   "metadata": {
    "slideshow": {
     "slide_type": "skip"
    }
   },
   "outputs": [],
   "source": [
    "for index, value in RS_QA_2017['answer_date'].iteritems():\n",
    "    d = datetime.datetime.strptime(value, \"%d.%m.%Y\")\n",
    "    d = d.date()\n",
    "    #d=print(d.isoformat())\n",
    "    RS_QA_2017['answer_date'][index] =d\n",
    "    "
   ]
  },
  {
   "cell_type": "code",
   "execution_count": 22,
   "metadata": {
    "slideshow": {
     "slide_type": "skip"
    }
   },
   "outputs": [
    {
     "data": {
      "text/html": [
       "<div>\n",
       "<style scoped>\n",
       "    .dataframe tbody tr th:only-of-type {\n",
       "        vertical-align: middle;\n",
       "    }\n",
       "\n",
       "    .dataframe tbody tr th {\n",
       "        vertical-align: top;\n",
       "    }\n",
       "\n",
       "    .dataframe thead th {\n",
       "        text-align: right;\n",
       "    }\n",
       "</style>\n",
       "<table border=\"1\" class=\"dataframe\">\n",
       "  <thead>\n",
       "    <tr style=\"text-align: right;\">\n",
       "      <th></th>\n",
       "      <th>id</th>\n",
       "      <th>answer_date</th>\n",
       "      <th>ministry</th>\n",
       "      <th>question_type</th>\n",
       "      <th>question_no</th>\n",
       "      <th>question_by</th>\n",
       "      <th>question_title</th>\n",
       "      <th>question_description</th>\n",
       "      <th>answer</th>\n",
       "    </tr>\n",
       "  </thead>\n",
       "  <tbody>\n",
       "    <tr>\n",
       "      <th>7952</th>\n",
       "      <td>239222</td>\n",
       "      <td>2017-08-09</td>\n",
       "      <td>HOME AFFAIRS</td>\n",
       "      <td>UNSTARRED</td>\n",
       "      <td>2635</td>\n",
       "      <td>Shri Amar Shankar Sable</td>\n",
       "      <td>Family pension for freedom fighters</td>\n",
       "      <td>(a) whether it is a fact that the Central Gove...</td>\n",
       "      <td>MINISTER OF STATE IN THE MINISTRY OF HOME AFFA...</td>\n",
       "    </tr>\n",
       "    <tr>\n",
       "      <th>2940</th>\n",
       "      <td>234203</td>\n",
       "      <td>2017-03-24</td>\n",
       "      <td>RAILWAYS</td>\n",
       "      <td>UNSTARRED</td>\n",
       "      <td>2692</td>\n",
       "      <td>Shri Shwait Malik</td>\n",
       "      <td>Introduction of premium trains from Amritsar</td>\n",
       "      <td>(a) whether in view of the fact that Amritsar ...</td>\n",
       "      <td>MINISTER OF STATE IN THE MINISTRY OF RAILWAYS(...</td>\n",
       "    </tr>\n",
       "    <tr>\n",
       "      <th>6150</th>\n",
       "      <td>237419</td>\n",
       "      <td>2017-07-25</td>\n",
       "      <td>CIVIL AVIATION</td>\n",
       "      <td>UNSTARRED</td>\n",
       "      <td>982</td>\n",
       "      <td>Dr. Kanwar Deep Singh</td>\n",
       "      <td>Private Investment in Aviation sector</td>\n",
       "      <td>(a): whether it is a fact that the Ministry pr...</td>\n",
       "      <td>The Minister of State in the Ministry of CIVIL...</td>\n",
       "    </tr>\n",
       "    <tr>\n",
       "      <th>1148</th>\n",
       "      <td>232400</td>\n",
       "      <td>2017-03-09</td>\n",
       "      <td>PERSONNEL,PUBLIC GRIEVANCES AND PENSIONS</td>\n",
       "      <td>UNSTARRED</td>\n",
       "      <td>1045</td>\n",
       "      <td>Shri Parimal Nathwani</td>\n",
       "      <td>Disposal of appeals received under RTI Act</td>\n",
       "      <td>(a) whether the Central Information Commission...</td>\n",
       "      <td>Minister of State in the Ministry of Personnel...</td>\n",
       "    </tr>\n",
       "    <tr>\n",
       "      <th>6945</th>\n",
       "      <td>238214</td>\n",
       "      <td>2017-07-31</td>\n",
       "      <td>RURAL DEVELOPMENT</td>\n",
       "      <td>UNSTARRED</td>\n",
       "      <td>1717</td>\n",
       "      <td>Smt. Wansuk Syiem</td>\n",
       "      <td>Improvement in payment of MGNREGA wages</td>\n",
       "      <td>(a) whether after the Supreme CourtÃ¢&lt;U+0080&gt;&lt;...</td>\n",
       "      <td>MINISTER OF STATE IN THE MINISTRY OF RURAL DEV...</td>\n",
       "    </tr>\n",
       "  </tbody>\n",
       "</table>\n",
       "</div>"
      ],
      "text/plain": [
       "          id answer_date                                  ministry  \\\n",
       "7952  239222  2017-08-09                              HOME AFFAIRS   \n",
       "2940  234203  2017-03-24                                  RAILWAYS   \n",
       "6150  237419  2017-07-25                            CIVIL AVIATION   \n",
       "1148  232400  2017-03-09  PERSONNEL,PUBLIC GRIEVANCES AND PENSIONS   \n",
       "6945  238214  2017-07-31                       RURAL DEVELOPMENT     \n",
       "\n",
       "     question_type  question_no              question_by  \\\n",
       "7952    UNSTARRED          2635  Shri Amar Shankar Sable   \n",
       "2940    UNSTARRED          2692        Shri Shwait Malik   \n",
       "6150    UNSTARRED           982    Dr. Kanwar Deep Singh   \n",
       "1148    UNSTARRED          1045    Shri Parimal Nathwani   \n",
       "6945    UNSTARRED          1717        Smt. Wansuk Syiem   \n",
       "\n",
       "                                    question_title  \\\n",
       "7952           Family pension for freedom fighters   \n",
       "2940  Introduction of premium trains from Amritsar   \n",
       "6150         Private Investment in Aviation sector   \n",
       "1148    Disposal of appeals received under RTI Act   \n",
       "6945       Improvement in payment of MGNREGA wages   \n",
       "\n",
       "                                   question_description  \\\n",
       "7952  (a) whether it is a fact that the Central Gove...   \n",
       "2940  (a) whether in view of the fact that Amritsar ...   \n",
       "6150  (a): whether it is a fact that the Ministry pr...   \n",
       "1148  (a) whether the Central Information Commission...   \n",
       "6945  (a) whether after the Supreme CourtÃ¢<U+0080><...   \n",
       "\n",
       "                                                 answer  \n",
       "7952  MINISTER OF STATE IN THE MINISTRY OF HOME AFFA...  \n",
       "2940  MINISTER OF STATE IN THE MINISTRY OF RAILWAYS(...  \n",
       "6150  The Minister of State in the Ministry of CIVIL...  \n",
       "1148  Minister of State in the Ministry of Personnel...  \n",
       "6945  MINISTER OF STATE IN THE MINISTRY OF RURAL DEV...  "
      ]
     },
     "execution_count": 22,
     "metadata": {},
     "output_type": "execute_result"
    }
   ],
   "source": [
    "RS_QA_2017.sample(5)"
   ]
  },
  {
   "cell_type": "code",
   "execution_count": 23,
   "metadata": {
    "slideshow": {
     "slide_type": "skip"
    }
   },
   "outputs": [
    {
     "data": {
      "text/html": [
       "<div>\n",
       "<style scoped>\n",
       "    .dataframe tbody tr th:only-of-type {\n",
       "        vertical-align: middle;\n",
       "    }\n",
       "\n",
       "    .dataframe tbody tr th {\n",
       "        vertical-align: top;\n",
       "    }\n",
       "\n",
       "    .dataframe thead th {\n",
       "        text-align: right;\n",
       "    }\n",
       "</style>\n",
       "<table border=\"1\" class=\"dataframe\">\n",
       "  <thead>\n",
       "    <tr style=\"text-align: right;\">\n",
       "      <th></th>\n",
       "      <th>Unnamed: 0</th>\n",
       "      <th>session_no</th>\n",
       "      <th>session_name</th>\n",
       "      <th>session_end_date</th>\n",
       "      <th>session_start_date</th>\n",
       "    </tr>\n",
       "  </thead>\n",
       "  <tbody>\n",
       "    <tr>\n",
       "      <th>0</th>\n",
       "      <td>0</td>\n",
       "      <td>255</td>\n",
       "      <td>Winter</td>\n",
       "      <td>23-12-2021</td>\n",
       "      <td>29-11-2021</td>\n",
       "    </tr>\n",
       "    <tr>\n",
       "      <th>1</th>\n",
       "      <td>1</td>\n",
       "      <td>254</td>\n",
       "      <td>Monsoon</td>\n",
       "      <td>11-08-2021</td>\n",
       "      <td>19-07-2021</td>\n",
       "    </tr>\n",
       "    <tr>\n",
       "      <th>2</th>\n",
       "      <td>2</td>\n",
       "      <td>253</td>\n",
       "      <td>Budget</td>\n",
       "      <td>25-03-2021</td>\n",
       "      <td>29-01-2021</td>\n",
       "    </tr>\n",
       "    <tr>\n",
       "      <th>3</th>\n",
       "      <td>3</td>\n",
       "      <td>252</td>\n",
       "      <td>Monsoon</td>\n",
       "      <td>24-09-2020</td>\n",
       "      <td>14-09-2020</td>\n",
       "    </tr>\n",
       "    <tr>\n",
       "      <th>4</th>\n",
       "      <td>4</td>\n",
       "      <td>251</td>\n",
       "      <td>Budget</td>\n",
       "      <td>03-04-2020</td>\n",
       "      <td>31-01-2020</td>\n",
       "    </tr>\n",
       "  </tbody>\n",
       "</table>\n",
       "</div>"
      ],
      "text/plain": [
       "   Unnamed: 0 session_no session_name session_end_date session_start_date\n",
       "0           0        255       Winter       23-12-2021         29-11-2021\n",
       "1           1        254      Monsoon       11-08-2021         19-07-2021\n",
       "2           2        253       Budget       25-03-2021         29-01-2021\n",
       "3           3        252      Monsoon       24-09-2020         14-09-2020\n",
       "4           4        251       Budget       03-04-2020         31-01-2020"
      ]
     },
     "execution_count": 23,
     "metadata": {},
     "output_type": "execute_result"
    }
   ],
   "source": [
    "Sessions_meta = pd.read_csv('Sessions_meta_data')\n",
    "Sessions_meta.head()"
   ]
  },
  {
   "cell_type": "code",
   "execution_count": 24,
   "metadata": {
    "slideshow": {
     "slide_type": "skip"
    }
   },
   "outputs": [
    {
     "data": {
      "text/plain": [
       "Unnamed: 0             int64\n",
       "session_no            object\n",
       "session_name          object\n",
       "session_end_date      object\n",
       "session_start_date    object\n",
       "dtype: object"
      ]
     },
     "execution_count": 24,
     "metadata": {},
     "output_type": "execute_result"
    }
   ],
   "source": [
    "Sessions_meta.dtypes"
   ]
  },
  {
   "cell_type": "code",
   "execution_count": 25,
   "metadata": {
    "slideshow": {
     "slide_type": "skip"
    }
   },
   "outputs": [
    {
     "data": {
      "text/plain": [
       "datetime.date(2017, 2, 2)"
      ]
     },
     "execution_count": 25,
     "metadata": {},
     "output_type": "execute_result"
    }
   ],
   "source": [
    "RS_QA_2017['answer_date'][0]"
   ]
  },
  {
   "cell_type": "code",
   "execution_count": 26,
   "metadata": {
    "slideshow": {
     "slide_type": "skip"
    }
   },
   "outputs": [],
   "source": [
    "for index, value in Sessions_meta['session_end_date'].iteritems():\n",
    "    d = datetime.datetime.strptime(value, \"%d-%m-%Y\")\n",
    "    d = d.date()\n",
    "    Sessions_meta['session_end_date'][index] =d\n",
    "    \n",
    "for index, value in Sessions_meta['session_start_date'].iteritems():\n",
    "    d = datetime.datetime.strptime(value, \"%d-%m-%Y\")\n",
    "    d = d.date()\n",
    "    Sessions_meta['session_start_date'][index] =d"
   ]
  },
  {
   "cell_type": "code",
   "execution_count": 27,
   "metadata": {
    "slideshow": {
     "slide_type": "skip"
    }
   },
   "outputs": [
    {
     "data": {
      "text/plain": [
       "False"
      ]
     },
     "execution_count": 27,
     "metadata": {},
     "output_type": "execute_result"
    }
   ],
   "source": [
    "RS_QA_2017['answer_date'][0] > RS_QA_2017['answer_date'][7404]"
   ]
  },
  {
   "cell_type": "code",
   "execution_count": 41,
   "metadata": {},
   "outputs": [
    {
     "data": {
      "text/plain": [
       "(8388, 9)"
      ]
     },
     "execution_count": 41,
     "metadata": {},
     "output_type": "execute_result"
    }
   ],
   "source": [
    "RS_QA_2017.shape"
   ]
  },
  {
   "cell_type": "code",
   "execution_count": 36,
   "metadata": {},
   "outputs": [],
   "source": []
  },
  {
   "cell_type": "code",
   "execution_count": 38,
   "metadata": {},
   "outputs": [],
   "source": [
    "session_aasignment= []\n",
    "for index, row in RS_QA_2017.iterrows():\n",
    "    flag=0\n",
    "    for i, r in  Sessions_meta.iterrows():\n",
    "        if (row['answer_date'] >= r['session_start_date']) and  (row['answer_date'] <= r['session_end_date']):\n",
    "            session_aasignment.append(r['session_no'])\n",
    "            flag=1\n",
    "        elif ((i+1)==Sessions_meta.shape[0]) and flag==0:\n",
    "            session_aasignment.append(\"NA\")"
   ]
  },
  {
   "cell_type": "code",
   "execution_count": 47,
   "metadata": {},
   "outputs": [],
   "source": [
    "for index, value in RS_QA_2009_2017['answer_date'].iteritems():\n",
    "    d = datetime.datetime.strptime(value, \"%d.%m.%Y\")\n",
    "    d = d.date()\n",
    "    #d=print(d.isoformat())\n",
    "    RS_QA_2009_2017['answer_date'][index] =d"
   ]
  },
  {
   "cell_type": "code",
   "execution_count": 48,
   "metadata": {},
   "outputs": [],
   "source": [
    "#RS_QA_2009_2017.head()\n",
    "session_aasignment= []\n",
    "for index, row in RS_QA_2009_2017.iterrows():\n",
    "    flag=0\n",
    "    for i, r in  Sessions_meta.iterrows():\n",
    "        if (row['answer_date'] >= r['session_start_date']) and  (row['answer_date'] <= r['session_end_date']):\n",
    "            session_aasignment.append(r['session_no'])\n",
    "            flag=1\n",
    "        elif ((i+1)==Sessions_meta.shape[0]) and flag==0:\n",
    "            session_aasignment.append(\"NA\")"
   ]
  },
  {
   "cell_type": "code",
   "execution_count": 50,
   "metadata": {},
   "outputs": [
    {
     "data": {
      "text/html": [
       "<div>\n",
       "<style scoped>\n",
       "    .dataframe tbody tr th:only-of-type {\n",
       "        vertical-align: middle;\n",
       "    }\n",
       "\n",
       "    .dataframe tbody tr th {\n",
       "        vertical-align: top;\n",
       "    }\n",
       "\n",
       "    .dataframe thead th {\n",
       "        text-align: right;\n",
       "    }\n",
       "</style>\n",
       "<table border=\"1\" class=\"dataframe\">\n",
       "  <thead>\n",
       "    <tr style=\"text-align: right;\">\n",
       "      <th></th>\n",
       "      <th></th>\n",
       "      <th>question</th>\n",
       "      <th>answer_date</th>\n",
       "      <th>ministry</th>\n",
       "      <th>question_type</th>\n",
       "      <th>question_no</th>\n",
       "      <th>question_by</th>\n",
       "      <th>question_title</th>\n",
       "      <th>question_description</th>\n",
       "      <th>answer</th>\n",
       "      <th>id</th>\n",
       "      <th>session_no</th>\n",
       "    </tr>\n",
       "  </thead>\n",
       "  <tbody>\n",
       "    <tr>\n",
       "      <th rowspan=\"5\" valign=\"top\">2009</th>\n",
       "      <th>0</th>\n",
       "      <td>150000.0</td>\n",
       "      <td>2009-12-16</td>\n",
       "      <td>COMMERCE AND INDUSTRY</td>\n",
       "      <td>STARRED</td>\n",
       "      <td>396</td>\n",
       "      <td>SHRI ISHWAR SINGH</td>\n",
       "      <td>SPURT IN PRICES OF GOLD .</td>\n",
       "      <td>(a) whether Government is aware that there is ...</td>\n",
       "      <td>MINISTER OF COMMERCE AND INDUSTRY (SHRI ANAND ...</td>\n",
       "      <td>NaN</td>\n",
       "      <td>218</td>\n",
       "    </tr>\n",
       "    <tr>\n",
       "      <th>1</th>\n",
       "      <td>150001.0</td>\n",
       "      <td>2009-12-16</td>\n",
       "      <td>COMMERCE AND INDUSTRY</td>\n",
       "      <td>UNSTARRED</td>\n",
       "      <td>2927</td>\n",
       "      <td>Dr. T. Subbarami Reddy</td>\n",
       "      <td>OPENING OF TRADE CENTRES IN LATIN AMERICAN COU...</td>\n",
       "      <td>(a) whether in order to capitalize on the lull...</td>\n",
       "      <td>MINISTER OF COMMERCE AND INDUSTRY (SHRI ANAND ...</td>\n",
       "      <td>NaN</td>\n",
       "      <td>218</td>\n",
       "    </tr>\n",
       "    <tr>\n",
       "      <th>2</th>\n",
       "      <td>150002.0</td>\n",
       "      <td>2009-12-16</td>\n",
       "      <td>COMMERCE AND INDUSTRY</td>\n",
       "      <td>UNSTARRED</td>\n",
       "      <td>2929</td>\n",
       "      <td>SHRI SHREEGOPAL VYAS</td>\n",
       "      <td>EARLY EXIT OF CHINESE BUSINESSMEN FROM TRADE F...</td>\n",
       "      <td>(a) whether the Chinese businessmen packed of ...</td>\n",
       "      <td>MINISTER OF COMMERCE AND INDUSTRY ( SHRI ANAND...</td>\n",
       "      <td>NaN</td>\n",
       "      <td>218</td>\n",
       "    </tr>\n",
       "    <tr>\n",
       "      <th>3</th>\n",
       "      <td>150003.0</td>\n",
       "      <td>2009-12-16</td>\n",
       "      <td>COMMERCE AND INDUSTRY</td>\n",
       "      <td>UNSTARRED</td>\n",
       "      <td>2931</td>\n",
       "      <td>Smt. Kusum Rai</td>\n",
       "      <td>DONATION BY STC AND MMTC TO STUDENT WINGS OF P...</td>\n",
       "      <td>to answer to Starred Question 97 given in the ...</td>\n",
       "      <td>MINISTER OF COMMERCE AND INDUSTRY ( SHRI ANAND...</td>\n",
       "      <td>NaN</td>\n",
       "      <td>218</td>\n",
       "    </tr>\n",
       "    <tr>\n",
       "      <th>4</th>\n",
       "      <td>150004.0</td>\n",
       "      <td>2009-12-16</td>\n",
       "      <td>COMMERCE AND INDUSTRY</td>\n",
       "      <td>UNSTARRED</td>\n",
       "      <td>2932</td>\n",
       "      <td>SHRI GIREESH KUMAR SANGHI</td>\n",
       "      <td>ENVISAGED EXPORT EARNING TARGETS .</td>\n",
       "      <td>(a) the envisaged export earning targets for t...</td>\n",
       "      <td>MINISTER OF COMMERCE AND INDUSTRY ( SHRI ANAND...</td>\n",
       "      <td>NaN</td>\n",
       "      <td>218</td>\n",
       "    </tr>\n",
       "  </tbody>\n",
       "</table>\n",
       "</div>"
      ],
      "text/plain": [
       "        question answer_date               ministry question_type  \\\n",
       "2009 0  150000.0  2009-12-16  COMMERCE AND INDUSTRY       STARRED   \n",
       "     1  150001.0  2009-12-16  COMMERCE AND INDUSTRY     UNSTARRED   \n",
       "     2  150002.0  2009-12-16  COMMERCE AND INDUSTRY     UNSTARRED   \n",
       "     3  150003.0  2009-12-16  COMMERCE AND INDUSTRY     UNSTARRED   \n",
       "     4  150004.0  2009-12-16  COMMERCE AND INDUSTRY     UNSTARRED   \n",
       "\n",
       "        question_no                question_by  \\\n",
       "2009 0          396          SHRI ISHWAR SINGH   \n",
       "     1         2927     Dr. T. Subbarami Reddy   \n",
       "     2         2929       SHRI SHREEGOPAL VYAS   \n",
       "     3         2931             Smt. Kusum Rai   \n",
       "     4         2932  SHRI GIREESH KUMAR SANGHI   \n",
       "\n",
       "                                           question_title  \\\n",
       "2009 0                          SPURT IN PRICES OF GOLD .   \n",
       "     1  OPENING OF TRADE CENTRES IN LATIN AMERICAN COU...   \n",
       "     2  EARLY EXIT OF CHINESE BUSINESSMEN FROM TRADE F...   \n",
       "     3  DONATION BY STC AND MMTC TO STUDENT WINGS OF P...   \n",
       "     4                 ENVISAGED EXPORT EARNING TARGETS .   \n",
       "\n",
       "                                     question_description  \\\n",
       "2009 0  (a) whether Government is aware that there is ...   \n",
       "     1  (a) whether in order to capitalize on the lull...   \n",
       "     2  (a) whether the Chinese businessmen packed of ...   \n",
       "     3  to answer to Starred Question 97 given in the ...   \n",
       "     4  (a) the envisaged export earning targets for t...   \n",
       "\n",
       "                                                   answer  id session_no  \n",
       "2009 0  MINISTER OF COMMERCE AND INDUSTRY (SHRI ANAND ... NaN        218  \n",
       "     1  MINISTER OF COMMERCE AND INDUSTRY (SHRI ANAND ... NaN        218  \n",
       "     2  MINISTER OF COMMERCE AND INDUSTRY ( SHRI ANAND... NaN        218  \n",
       "     3  MINISTER OF COMMERCE AND INDUSTRY ( SHRI ANAND... NaN        218  \n",
       "     4  MINISTER OF COMMERCE AND INDUSTRY ( SHRI ANAND... NaN        218  "
      ]
     },
     "execution_count": 50,
     "metadata": {},
     "output_type": "execute_result"
    }
   ],
   "source": [
    "RS_QA_2009_2017['session_no'] = session_aasignment\n",
    "RS_QA_2009_2017.head()"
   ]
  },
  {
   "cell_type": "code",
   "execution_count": 87,
   "metadata": {},
   "outputs": [],
   "source": [
    "#No of questions asked by member per session - grouby member, session, count\n",
    "Data =RS_QA_2009_2017.groupby(['session_no', 'question_by', 'question_type']).size()\n",
    "Data=Data.reset_index()"
   ]
  },
  {
   "cell_type": "code",
   "execution_count": 97,
   "metadata": {},
   "outputs": [
    {
     "data": {
      "text/html": [
       "<div>\n",
       "<style scoped>\n",
       "    .dataframe tbody tr th:only-of-type {\n",
       "        vertical-align: middle;\n",
       "    }\n",
       "\n",
       "    .dataframe tbody tr th {\n",
       "        vertical-align: top;\n",
       "    }\n",
       "\n",
       "    .dataframe thead th {\n",
       "        text-align: right;\n",
       "    }\n",
       "</style>\n",
       "<table border=\"1\" class=\"dataframe\">\n",
       "  <thead>\n",
       "    <tr style=\"text-align: right;\">\n",
       "      <th></th>\n",
       "      <th>session_no</th>\n",
       "      <th>question_by</th>\n",
       "      <th>question_type</th>\n",
       "      <th>question_count</th>\n",
       "    </tr>\n",
       "  </thead>\n",
       "  <tbody>\n",
       "    <tr>\n",
       "      <th>0</th>\n",
       "      <td>218</td>\n",
       "      <td>DR. GYAN PRAKASH PILANIA</td>\n",
       "      <td>UNSTARRED</td>\n",
       "      <td>3</td>\n",
       "    </tr>\n",
       "    <tr>\n",
       "      <th>1</th>\n",
       "      <td>218</td>\n",
       "      <td>DR. JANARDHAN WAGHMARE</td>\n",
       "      <td>STARRED</td>\n",
       "      <td>1</td>\n",
       "    </tr>\n",
       "    <tr>\n",
       "      <th>2</th>\n",
       "      <td>218</td>\n",
       "      <td>DR. JANARDHAN WAGHMARE</td>\n",
       "      <td>UNSTARRED</td>\n",
       "      <td>8</td>\n",
       "    </tr>\n",
       "    <tr>\n",
       "      <th>3</th>\n",
       "      <td>218</td>\n",
       "      <td>DR. K. MALAISAMY</td>\n",
       "      <td>UNSTARRED</td>\n",
       "      <td>1</td>\n",
       "    </tr>\n",
       "    <tr>\n",
       "      <th>4</th>\n",
       "      <td>218</td>\n",
       "      <td>DR. PRABHA THAKUR</td>\n",
       "      <td>UNSTARRED</td>\n",
       "      <td>2</td>\n",
       "    </tr>\n",
       "  </tbody>\n",
       "</table>\n",
       "</div>"
      ],
      "text/plain": [
       "  session_no               question_by question_type  question_count\n",
       "0        218  DR. GYAN PRAKASH PILANIA     UNSTARRED               3\n",
       "1        218    DR. JANARDHAN WAGHMARE       STARRED               1\n",
       "2        218    DR. JANARDHAN WAGHMARE     UNSTARRED               8\n",
       "3        218          DR. K. MALAISAMY     UNSTARRED               1\n",
       "4        218         DR. PRABHA THAKUR     UNSTARRED               2"
      ]
     },
     "execution_count": 97,
     "metadata": {},
     "output_type": "execute_result"
    }
   ],
   "source": [
    "Data.head()"
   ]
  },
  {
   "cell_type": "code",
   "execution_count": null,
   "metadata": {},
   "outputs": [],
   "source": [
    "#Attendance dataset + Data + Demographic"
   ]
  },
  {
   "cell_type": "code",
   "execution_count": 96,
   "metadata": {},
   "outputs": [],
   "source": [
    "Data.columns = ['session_no', 'question_by', 'question_type', 'question_count']"
   ]
  },
  {
   "cell_type": "code",
   "execution_count": 98,
   "metadata": {},
   "outputs": [],
   "source": [
    "Data.to_csv('Questions_member_count.csv')"
   ]
  },
  {
   "cell_type": "markdown",
   "metadata": {},
   "source": [
    "# ACTION ITEMS\n",
    "- Session held from 2009-2016 are numbered 215-241\n",
    "- Action items -Delete observation related to '242part1',  '242part2', '243' from 'Data'"
   ]
  },
  {
   "cell_type": "code",
   "execution_count": 95,
   "metadata": {
    "scrolled": true
   },
   "outputs": [
    {
     "data": {
      "text/plain": [
       "{'218',\n",
       " '219Part1',\n",
       " '219Part2',\n",
       " '220',\n",
       " '221',\n",
       " '222',\n",
       " '223',\n",
       " '224',\n",
       " '225Part1',\n",
       " '225Part2',\n",
       " '226',\n",
       " '227',\n",
       " '228Part1',\n",
       " '228Part2',\n",
       " '229',\n",
       " '230',\n",
       " '230part2',\n",
       " '232',\n",
       " '233',\n",
       " '234',\n",
       " '235',\n",
       " '236',\n",
       " '237',\n",
       " '238',\n",
       " '239',\n",
       " '240',\n",
       " '241',\n",
       " '242part1',\n",
       " '242part2',\n",
       " '243'}"
      ]
     },
     "execution_count": 95,
     "metadata": {},
     "output_type": "execute_result"
    }
   ],
   "source": [
    "set(Data.session_no) \n"
   ]
  },
  {
   "cell_type": "code",
   "execution_count": 99,
   "metadata": {},
   "outputs": [
    {
     "data": {
      "text/plain": [
       "Index(['Member Name', 'Gender', 'Email ID', 'Delhi Address',\n",
       "       'Permanent Address', 'Whether Minister', 'Term Details',\n",
       "       'Number of Terms', 'State Name', 'Party Name', 'Father Name',\n",
       "       'Mother Name', 'Date of Birth', 'Place of Birth', 'Marital Status',\n",
       "       'Date of Marriage', 'Spouse Name', 'No. of Sons', 'No. of Daughters',\n",
       "       'Freedom Fighter', 'Educational Qualification(s)',\n",
       "       'Other Profession(s)', 'Previous Membership', 'Position(s) Held',\n",
       "       'Book(s) Published', 'Activity(s)', 'Hobbies', 'Country(s) Visited',\n",
       "       'Essential Information'],\n",
       "      dtype='object')"
      ]
     },
     "execution_count": 99,
     "metadata": {},
     "output_type": "execute_result"
    }
   ],
   "source": [
    "Member_bio = pd.read_csv('Member_biographical_data(1952-2016).csv')\n",
    "Member_bio.columns"
   ]
  },
  {
   "cell_type": "code",
   "execution_count": 104,
   "metadata": {
    "scrolled": true
   },
   "outputs": [
    {
     "data": {
      "text/plain": [
       "['9/08/1993 ', ' 18/08/1999 , 19/08/1999 ', ' 18/08/2005 ,']"
      ]
     },
     "execution_count": 104,
     "metadata": {},
     "output_type": "execute_result"
    }
   ],
   "source": [
    "Member_bio['Term Details'][0].split('-')"
   ]
  },
  {
   "cell_type": "code",
   "execution_count": 106,
   "metadata": {},
   "outputs": [
    {
     "data": {
      "text/html": [
       "<div>\n",
       "<style scoped>\n",
       "    .dataframe tbody tr th:only-of-type {\n",
       "        vertical-align: middle;\n",
       "    }\n",
       "\n",
       "    .dataframe tbody tr th {\n",
       "        vertical-align: top;\n",
       "    }\n",
       "\n",
       "    .dataframe thead th {\n",
       "        text-align: right;\n",
       "    }\n",
       "</style>\n",
       "<table border=\"1\" class=\"dataframe\">\n",
       "  <thead>\n",
       "    <tr style=\"text-align: right;\">\n",
       "      <th></th>\n",
       "      <th>session_no</th>\n",
       "      <th>question_by</th>\n",
       "      <th>question_type</th>\n",
       "      <th>question_count</th>\n",
       "    </tr>\n",
       "  </thead>\n",
       "  <tbody>\n",
       "    <tr>\n",
       "      <th>0</th>\n",
       "      <td>218</td>\n",
       "      <td>dr. gyan prakash pilania</td>\n",
       "      <td>UNSTARRED</td>\n",
       "      <td>3</td>\n",
       "    </tr>\n",
       "    <tr>\n",
       "      <th>1</th>\n",
       "      <td>218</td>\n",
       "      <td>dr. janardhan waghmare</td>\n",
       "      <td>STARRED</td>\n",
       "      <td>1</td>\n",
       "    </tr>\n",
       "    <tr>\n",
       "      <th>2</th>\n",
       "      <td>218</td>\n",
       "      <td>dr. janardhan waghmare</td>\n",
       "      <td>UNSTARRED</td>\n",
       "      <td>8</td>\n",
       "    </tr>\n",
       "    <tr>\n",
       "      <th>3</th>\n",
       "      <td>218</td>\n",
       "      <td>dr. k. malaisamy</td>\n",
       "      <td>UNSTARRED</td>\n",
       "      <td>1</td>\n",
       "    </tr>\n",
       "    <tr>\n",
       "      <th>4</th>\n",
       "      <td>218</td>\n",
       "      <td>dr. prabha thakur</td>\n",
       "      <td>UNSTARRED</td>\n",
       "      <td>2</td>\n",
       "    </tr>\n",
       "  </tbody>\n",
       "</table>\n",
       "</div>"
      ],
      "text/plain": [
       "  session_no               question_by question_type  question_count\n",
       "0        218  dr. gyan prakash pilania     UNSTARRED               3\n",
       "1        218    dr. janardhan waghmare       STARRED               1\n",
       "2        218    dr. janardhan waghmare     UNSTARRED               8\n",
       "3        218          dr. k. malaisamy     UNSTARRED               1\n",
       "4        218         dr. prabha thakur     UNSTARRED               2"
      ]
     },
     "execution_count": 106,
     "metadata": {},
     "output_type": "execute_result"
    }
   ],
   "source": [
    "Member_bio['Member Name'] = Member_bio['Member Name'].str.lower()\n",
    "Data['question_by'] = Data['question_by'].str.lower()\n",
    "Data_2009_2016 = Data.loc[~Data['session_no'].isin(['242part1', '242part2', '243'])]\n",
    "Data_2009_2016 = RS_QA_2009_2017.groupby(['session_no', 'question_by', 'question_type']).size()\n",
    "\n",
    "Data =RS_QA_2009_2017.groupby(['session_no', 'question_by', 'question_type']).size()\n",
    "Data=Data.reset_index()"
   ]
  },
  {
   "cell_type": "code",
   "execution_count": 107,
   "metadata": {},
   "outputs": [
    {
     "data": {
      "text/html": [
       "<div>\n",
       "<style scoped>\n",
       "    .dataframe tbody tr th:only-of-type {\n",
       "        vertical-align: middle;\n",
       "    }\n",
       "\n",
       "    .dataframe tbody tr th {\n",
       "        vertical-align: top;\n",
       "    }\n",
       "\n",
       "    .dataframe thead th {\n",
       "        text-align: right;\n",
       "    }\n",
       "</style>\n",
       "<table border=\"1\" class=\"dataframe\">\n",
       "  <thead>\n",
       "    <tr style=\"text-align: right;\">\n",
       "      <th></th>\n",
       "      <th></th>\n",
       "      <th>question_count</th>\n",
       "    </tr>\n",
       "    <tr>\n",
       "      <th>session_no</th>\n",
       "      <th>question_by</th>\n",
       "      <th></th>\n",
       "    </tr>\n",
       "  </thead>\n",
       "  <tbody>\n",
       "    <tr>\n",
       "      <th rowspan=\"5\" valign=\"top\">218</th>\n",
       "      <th>dr. abhishek manu singhvi</th>\n",
       "      <td>1</td>\n",
       "    </tr>\n",
       "    <tr>\n",
       "      <th>dr. e.m. sudarsana natchiappan</th>\n",
       "      <td>5</td>\n",
       "    </tr>\n",
       "    <tr>\n",
       "      <th>dr. gyan prakash pilania</th>\n",
       "      <td>3</td>\n",
       "    </tr>\n",
       "    <tr>\n",
       "      <th>dr. janardhan waghmare</th>\n",
       "      <td>9</td>\n",
       "    </tr>\n",
       "    <tr>\n",
       "      <th>dr. k. malaisamy</th>\n",
       "      <td>1</td>\n",
       "    </tr>\n",
       "  </tbody>\n",
       "</table>\n",
       "</div>"
      ],
      "text/plain": [
       "                                           question_count\n",
       "session_no question_by                                   \n",
       "218        dr. abhishek manu singhvi                    1\n",
       "           dr. e.m. sudarsana natchiappan               5\n",
       "           dr. gyan prakash pilania                     3\n",
       "           dr. janardhan waghmare                       9\n",
       "           dr. k. malaisamy                             1"
      ]
     },
     "execution_count": 107,
     "metadata": {},
     "output_type": "execute_result"
    }
   ],
   "source": [
    "Data_2009_2016 = Data_2009_2016.groupby(['session_no', 'question_by']).sum()\n"
   ]
  },
  {
   "cell_type": "code",
   "execution_count": 108,
   "metadata": {},
   "outputs": [
    {
     "data": {
      "text/html": [
       "<div>\n",
       "<style scoped>\n",
       "    .dataframe tbody tr th:only-of-type {\n",
       "        vertical-align: middle;\n",
       "    }\n",
       "\n",
       "    .dataframe tbody tr th {\n",
       "        vertical-align: top;\n",
       "    }\n",
       "\n",
       "    .dataframe thead th {\n",
       "        text-align: right;\n",
       "    }\n",
       "</style>\n",
       "<table border=\"1\" class=\"dataframe\">\n",
       "  <thead>\n",
       "    <tr style=\"text-align: right;\">\n",
       "      <th></th>\n",
       "      <th>session_no</th>\n",
       "      <th>question_by</th>\n",
       "      <th>question_count</th>\n",
       "    </tr>\n",
       "  </thead>\n",
       "  <tbody>\n",
       "    <tr>\n",
       "      <th>0</th>\n",
       "      <td>218</td>\n",
       "      <td>dr. abhishek manu singhvi</td>\n",
       "      <td>1</td>\n",
       "    </tr>\n",
       "    <tr>\n",
       "      <th>1</th>\n",
       "      <td>218</td>\n",
       "      <td>dr. e.m. sudarsana natchiappan</td>\n",
       "      <td>5</td>\n",
       "    </tr>\n",
       "    <tr>\n",
       "      <th>2</th>\n",
       "      <td>218</td>\n",
       "      <td>dr. gyan prakash pilania</td>\n",
       "      <td>3</td>\n",
       "    </tr>\n",
       "    <tr>\n",
       "      <th>3</th>\n",
       "      <td>218</td>\n",
       "      <td>dr. janardhan waghmare</td>\n",
       "      <td>9</td>\n",
       "    </tr>\n",
       "    <tr>\n",
       "      <th>4</th>\n",
       "      <td>218</td>\n",
       "      <td>dr. k. malaisamy</td>\n",
       "      <td>1</td>\n",
       "    </tr>\n",
       "  </tbody>\n",
       "</table>\n",
       "</div>"
      ],
      "text/plain": [
       "  session_no                     question_by  question_count\n",
       "0        218       dr. abhishek manu singhvi               1\n",
       "1        218  dr. e.m. sudarsana natchiappan               5\n",
       "2        218        dr. gyan prakash pilania               3\n",
       "3        218          dr. janardhan waghmare               9\n",
       "4        218                dr. k. malaisamy               1"
      ]
     },
     "execution_count": 108,
     "metadata": {},
     "output_type": "execute_result"
    }
   ],
   "source": [
    "Data_2009_2016 = Data_2009_2016.reset_index()\n",
    "Data_2009_2016.head()"
   ]
  },
  {
   "cell_type": "code",
   "execution_count": 4,
   "metadata": {},
   "outputs": [],
   "source": [
    "connection = sqlite3.connect(\"MP_attendance_scraper2.sqlite\")"
   ]
  },
  {
   "cell_type": "code",
   "execution_count": 6,
   "metadata": {},
   "outputs": [],
   "source": [
    "session_215=pd.read_sql(\"select * from session_215\",connection)"
   ]
  },
  {
   "cell_type": "code",
   "execution_count": 8,
   "metadata": {},
   "outputs": [
    {
     "data": {
      "text/html": [
       "<div>\n",
       "<style scoped>\n",
       "    .dataframe tbody tr th:only-of-type {\n",
       "        vertical-align: middle;\n",
       "    }\n",
       "\n",
       "    .dataframe tbody tr th {\n",
       "        vertical-align: top;\n",
       "    }\n",
       "\n",
       "    .dataframe thead th {\n",
       "        text-align: right;\n",
       "    }\n",
       "</style>\n",
       "<table border=\"1\" class=\"dataframe\">\n",
       "  <thead>\n",
       "    <tr style=\"text-align: right;\">\n",
       "      <th></th>\n",
       "      <th>Days_attended</th>\n",
       "      <th>Member_name</th>\n",
       "      <th>session_no</th>\n",
       "    </tr>\n",
       "  </thead>\n",
       "  <tbody>\n",
       "    <tr>\n",
       "      <th>24</th>\n",
       "      <td>10</td>\n",
       "      <td>Shri Dharam Pal Sabharwal</td>\n",
       "      <td>215</td>\n",
       "    </tr>\n",
       "    <tr>\n",
       "      <th>86</th>\n",
       "      <td>7</td>\n",
       "      <td>Shri Subhash  Prasad Yadav</td>\n",
       "      <td>215</td>\n",
       "    </tr>\n",
       "    <tr>\n",
       "      <th>11</th>\n",
       "      <td>9</td>\n",
       "      <td>Smt. Mohsina Kidwai</td>\n",
       "      <td>215</td>\n",
       "    </tr>\n",
       "    <tr>\n",
       "      <th>167</th>\n",
       "      <td>10</td>\n",
       "      <td>Shri  Mangala Kisan</td>\n",
       "      <td>215</td>\n",
       "    </tr>\n",
       "    <tr>\n",
       "      <th>95</th>\n",
       "      <td>5</td>\n",
       "      <td>Dr. Chandan Mitra</td>\n",
       "      <td>215</td>\n",
       "    </tr>\n",
       "  </tbody>\n",
       "</table>\n",
       "</div>"
      ],
      "text/plain": [
       "    Days_attended                 Member_name session_no\n",
       "24             10   Shri Dharam Pal Sabharwal        215\n",
       "86              7  Shri Subhash  Prasad Yadav        215\n",
       "11              9         Smt. Mohsina Kidwai        215\n",
       "167            10         Shri  Mangala Kisan        215\n",
       "95              5           Dr. Chandan Mitra        215"
      ]
     },
     "execution_count": 8,
     "metadata": {},
     "output_type": "execute_result"
    }
   ],
   "source": [
    "session_215.sample(5)  "
   ]
  },
  {
   "cell_type": "code",
   "execution_count": 12,
   "metadata": {},
   "outputs": [
    {
     "data": {
      "text/plain": [
       "['session_245part1',\n",
       " 'session_230',\n",
       " 'session_220',\n",
       " 'session_241',\n",
       " 'session_233']"
      ]
     },
     "execution_count": 12,
     "metadata": {},
     "output_type": "execute_result"
    }
   ],
   "source": [
    "attendance_file_names = pd.read_csv('attendance_file_names.csv')\n",
    "attendance_files = list(attendance_file_names.session_file_name)\n",
    "attendance_files[0:5]"
   ]
  },
  {
   "cell_type": "code",
   "execution_count": 13,
   "metadata": {},
   "outputs": [
    {
     "data": {
      "text/html": [
       "<div>\n",
       "<style scoped>\n",
       "    .dataframe tbody tr th:only-of-type {\n",
       "        vertical-align: middle;\n",
       "    }\n",
       "\n",
       "    .dataframe tbody tr th {\n",
       "        vertical-align: top;\n",
       "    }\n",
       "\n",
       "    .dataframe thead th {\n",
       "        text-align: right;\n",
       "    }\n",
       "</style>\n",
       "<table border=\"1\" class=\"dataframe\">\n",
       "  <thead>\n",
       "    <tr style=\"text-align: right;\">\n",
       "      <th></th>\n",
       "      <th>Days_attended</th>\n",
       "      <th>Member_name</th>\n",
       "      <th>session_no</th>\n",
       "    </tr>\n",
       "  </thead>\n",
       "  <tbody>\n",
       "  </tbody>\n",
       "</table>\n",
       "</div>"
      ],
      "text/plain": [
       "Empty DataFrame\n",
       "Columns: [Days_attended, Member_name, session_no]\n",
       "Index: []"
      ]
     },
     "execution_count": 13,
     "metadata": {},
     "output_type": "execute_result"
    }
   ],
   "source": [
    "attendance_data = pd.DataFrame(columns=['Days_attended','Member_name', 'session_no' ])\n",
    "attendance_data.head()"
   ]
  },
  {
   "cell_type": "code",
   "execution_count": 17,
   "metadata": {},
   "outputs": [],
   "source": [
    "\n",
    "for file in attendance_files:\n",
    "    \n",
    "    df_name = file\n",
    "    data = pd.read_sql(f\"select * from {file}\",connection)\n",
    "    attendance_data =  pd.concat([attendance_data, data])\n",
    "    "
   ]
  },
  {
   "cell_type": "code",
   "execution_count": 19,
   "metadata": {},
   "outputs": [
    {
     "data": {
      "text/html": [
       "<div>\n",
       "<style scoped>\n",
       "    .dataframe tbody tr th:only-of-type {\n",
       "        vertical-align: middle;\n",
       "    }\n",
       "\n",
       "    .dataframe tbody tr th {\n",
       "        vertical-align: top;\n",
       "    }\n",
       "\n",
       "    .dataframe thead th {\n",
       "        text-align: right;\n",
       "    }\n",
       "</style>\n",
       "<table border=\"1\" class=\"dataframe\">\n",
       "  <thead>\n",
       "    <tr style=\"text-align: right;\">\n",
       "      <th></th>\n",
       "      <th>Days_attended</th>\n",
       "      <th>Member_name</th>\n",
       "      <th>session_no</th>\n",
       "    </tr>\n",
       "  </thead>\n",
       "  <tbody>\n",
       "    <tr>\n",
       "      <th>123</th>\n",
       "      <td>17</td>\n",
       "      <td>Prof. Mrinal Miri</td>\n",
       "      <td>226</td>\n",
       "    </tr>\n",
       "    <tr>\n",
       "      <th>25</th>\n",
       "      <td>9</td>\n",
       "      <td>Shri P. Kannan</td>\n",
       "      <td>225Part2</td>\n",
       "    </tr>\n",
       "    <tr>\n",
       "      <th>144</th>\n",
       "      <td>10</td>\n",
       "      <td>Shri  Nandamuri Harikrishna</td>\n",
       "      <td>224</td>\n",
       "    </tr>\n",
       "    <tr>\n",
       "      <th>218</th>\n",
       "      <td>19</td>\n",
       "      <td>Shri Bhagat Singh Koshyari</td>\n",
       "      <td>221</td>\n",
       "    </tr>\n",
       "    <tr>\n",
       "      <th>187</th>\n",
       "      <td>19</td>\n",
       "      <td>Dr. Manmohan Singh</td>\n",
       "      <td>234</td>\n",
       "    </tr>\n",
       "  </tbody>\n",
       "</table>\n",
       "</div>"
      ],
      "text/plain": [
       "    Days_attended                  Member_name session_no\n",
       "123            17            Prof. Mrinal Miri        226\n",
       "25              9               Shri P. Kannan   225Part2\n",
       "144            10  Shri  Nandamuri Harikrishna        224\n",
       "218            19   Shri Bhagat Singh Koshyari        221\n",
       "187            19           Dr. Manmohan Singh        234"
      ]
     },
     "execution_count": 19,
     "metadata": {},
     "output_type": "execute_result"
    }
   ],
   "source": [
    "attendance_data.sample(5)"
   ]
  },
  {
   "cell_type": "code",
   "execution_count": 20,
   "metadata": {},
   "outputs": [
    {
     "data": {
      "text/plain": [
       "(11763, 3)"
      ]
     },
     "execution_count": 20,
     "metadata": {},
     "output_type": "execute_result"
    }
   ],
   "source": [
    "attendance_data.shape"
   ]
  },
  {
   "cell_type": "code",
   "execution_count": 22,
   "metadata": {},
   "outputs": [],
   "source": [
    "connection.close()"
   ]
  },
  {
   "cell_type": "code",
   "execution_count": 25,
   "metadata": {},
   "outputs": [
    {
     "data": {
      "text/html": [
       "<div>\n",
       "<style scoped>\n",
       "    .dataframe tbody tr th:only-of-type {\n",
       "        vertical-align: middle;\n",
       "    }\n",
       "\n",
       "    .dataframe tbody tr th {\n",
       "        vertical-align: top;\n",
       "    }\n",
       "\n",
       "    .dataframe thead th {\n",
       "        text-align: right;\n",
       "    }\n",
       "</style>\n",
       "<table border=\"1\" class=\"dataframe\">\n",
       "  <thead>\n",
       "    <tr style=\"text-align: right;\">\n",
       "      <th></th>\n",
       "      <th>session_no</th>\n",
       "      <th>Member_name</th>\n",
       "      <th>Days_attended</th>\n",
       "    </tr>\n",
       "  </thead>\n",
       "  <tbody>\n",
       "    <tr>\n",
       "      <th>0</th>\n",
       "      <td>245part1</td>\n",
       "      <td>Shri Arun Jaitley</td>\n",
       "      <td>M</td>\n",
       "    </tr>\n",
       "    <tr>\n",
       "      <th>1</th>\n",
       "      <td>245part1</td>\n",
       "      <td>Shri Vijay Goel</td>\n",
       "      <td>M</td>\n",
       "    </tr>\n",
       "    <tr>\n",
       "      <th>2</th>\n",
       "      <td>245part1</td>\n",
       "      <td>Smt.  Nirmala Sitharaman</td>\n",
       "      <td>M</td>\n",
       "    </tr>\n",
       "    <tr>\n",
       "      <th>3</th>\n",
       "      <td>245part1</td>\n",
       "      <td>Shri Mukhtar Abbas Naqvi</td>\n",
       "      <td>M</td>\n",
       "    </tr>\n",
       "    <tr>\n",
       "      <th>4</th>\n",
       "      <td>245part1</td>\n",
       "      <td>Shri Dharmendra Pradhan</td>\n",
       "      <td>M</td>\n",
       "    </tr>\n",
       "  </tbody>\n",
       "</table>\n",
       "</div>"
      ],
      "text/plain": [
       "  session_no               Member_name Days_attended\n",
       "0   245part1         Shri Arun Jaitley             M\n",
       "1   245part1           Shri Vijay Goel             M\n",
       "2   245part1  Smt.  Nirmala Sitharaman             M\n",
       "3   245part1  Shri Mukhtar Abbas Naqvi             M\n",
       "4   245part1   Shri Dharmendra Pradhan             M"
      ]
     },
     "execution_count": 25,
     "metadata": {},
     "output_type": "execute_result"
    }
   ],
   "source": [
    "Attendance_215_241 = pd.read_csv('Attendance_main_for_prediction.csv')\n",
    "Attendance_215_241 = Attendance_215_241[['session_no','Member_name','Days_attended']]\n",
    "Attendance_215_241.head()"
   ]
  },
  {
   "cell_type": "code",
   "execution_count": 33,
   "metadata": {},
   "outputs": [
    {
     "data": {
      "text/html": [
       "<div>\n",
       "<style scoped>\n",
       "    .dataframe tbody tr th:only-of-type {\n",
       "        vertical-align: middle;\n",
       "    }\n",
       "\n",
       "    .dataframe tbody tr th {\n",
       "        vertical-align: top;\n",
       "    }\n",
       "\n",
       "    .dataframe thead th {\n",
       "        text-align: right;\n",
       "    }\n",
       "</style>\n",
       "<table border=\"1\" class=\"dataframe\">\n",
       "  <thead>\n",
       "    <tr style=\"text-align: right;\">\n",
       "      <th></th>\n",
       "      <th>session_no</th>\n",
       "      <th>Member_name</th>\n",
       "      <th>Days_attended</th>\n",
       "    </tr>\n",
       "  </thead>\n",
       "  <tbody>\n",
       "    <tr>\n",
       "      <th>6130</th>\n",
       "      <td>232</td>\n",
       "      <td>shri motilal vora</td>\n",
       "      <td>27</td>\n",
       "    </tr>\n",
       "    <tr>\n",
       "      <th>4649</th>\n",
       "      <td>238</td>\n",
       "      <td>shri sitaram yechury</td>\n",
       "      <td>14</td>\n",
       "    </tr>\n",
       "    <tr>\n",
       "      <th>5167</th>\n",
       "      <td>239</td>\n",
       "      <td>shri k.k. ragesh</td>\n",
       "      <td>2</td>\n",
       "    </tr>\n",
       "    <tr>\n",
       "      <th>2278</th>\n",
       "      <td>221</td>\n",
       "      <td>shri sanjay raut</td>\n",
       "      <td>11</td>\n",
       "    </tr>\n",
       "    <tr>\n",
       "      <th>5928</th>\n",
       "      <td>231</td>\n",
       "      <td>shri avtar singh karimpuri</td>\n",
       "      <td>3</td>\n",
       "    </tr>\n",
       "  </tbody>\n",
       "</table>\n",
       "</div>"
      ],
      "text/plain": [
       "     session_no                 Member_name Days_attended\n",
       "6130        232           shri motilal vora            27\n",
       "4649        238        shri sitaram yechury            14\n",
       "5167        239            shri k.k. ragesh             2\n",
       "2278        221            shri sanjay raut            11\n",
       "5928        231  shri avtar singh karimpuri             3"
      ]
     },
     "execution_count": 33,
     "metadata": {},
     "output_type": "execute_result"
    }
   ],
   "source": [
    "Attendance_215_241['Member_name'] = Attendance_215_241['Member_name'].str.lower()\n",
    "remove_sesssions_list = ['214Part1','214Part2','242part1', '242part2','243','244','245part1','245part2', '246','247','248','249','250','251','252','253','254','255']\n",
    "Attendance_215_241 = Attendance_215_241.loc[~Attendance_215_241['session_no'].isin(remove_sesssions_list)]\n",
    "Attendance_215_241.sample(5)"
   ]
  },
  {
   "cell_type": "code",
   "execution_count": 34,
   "metadata": {},
   "outputs": [
    {
     "ename": "NameError",
     "evalue": "name 'Data_2009_2016' is not defined",
     "output_type": "error",
     "traceback": [
      "\u001b[1;31m---------------------------------------------------------------------------\u001b[0m",
      "\u001b[1;31mNameError\u001b[0m                                 Traceback (most recent call last)",
      "\u001b[1;32m<ipython-input-34-2c68ffc1f87f>\u001b[0m in \u001b[0;36m<module>\u001b[1;34m\u001b[0m\n\u001b[1;32m----> 1\u001b[1;33m \u001b[0mData_2009_2016\u001b[0m\u001b[1;33m.\u001b[0m\u001b[0mhead\u001b[0m\u001b[1;33m(\u001b[0m\u001b[1;33m)\u001b[0m\u001b[1;33m\u001b[0m\u001b[1;33m\u001b[0m\u001b[0m\n\u001b[0m",
      "\u001b[1;31mNameError\u001b[0m: name 'Data_2009_2016' is not defined"
     ]
    }
   ],
   "source": [
    "Data_2009_2016.head()"
   ]
  },
  {
   "cell_type": "code",
   "execution_count": null,
   "metadata": {},
   "outputs": [],
   "source": []
  }
 ],
 "metadata": {
  "kernelspec": {
   "display_name": "Python 3",
   "language": "python",
   "name": "python3"
  },
  "language_info": {
   "codemirror_mode": {
    "name": "ipython",
    "version": 3
   },
   "file_extension": ".py",
   "mimetype": "text/x-python",
   "name": "python",
   "nbconvert_exporter": "python",
   "pygments_lexer": "ipython3",
   "version": "3.8.3"
  }
 },
 "nbformat": 4,
 "nbformat_minor": 4
}
