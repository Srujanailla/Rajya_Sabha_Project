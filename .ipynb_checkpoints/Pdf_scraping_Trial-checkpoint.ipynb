{
 "cells": [
  {
   "cell_type": "code",
   "execution_count": 1,
   "metadata": {},
   "outputs": [],
   "source": [
    "import PyPDF2\n",
    "import re"
   ]
  },
  {
   "cell_type": "code",
   "execution_count": 2,
   "metadata": {},
   "outputs": [
    {
     "name": "stdout",
     "output_type": "stream",
     "text": [
      "31[23 September, 2020]\n",
      "Written Answers toUnstarred Questions\n",
      "WRITTEN ANSWERS TO UNSTARRED QUESTIONS\n",
      "Faulty agricultural planning1430.SHRI K.P. MUNUSAMY: Will the Minister of AGRICULTURE AND FARMERS\n",
      "WELFARE be pleased to state:\n",
      "(a)whether Government is considering to rectify the faulty agricultural planning\n",
      "and its implementation; and(b)if so, the details of production of food crops into cash crops thereof?\n",
      "THE MINISTER OF AGRICULTURE AND \n",
      "FARMERS WELFARE\n",
      "(SHRI NARENDRA SINGH TOMAR): (a) and (b) Agriculture being a State subject, the\n",
      "\n",
      "State Governments take appropriate measures for development of agriculture in theState. However, Government of India supplements the efforts of States through\n",
      "appropriate policy measures and budgetary support. The Government of India\n",
      "supplements the efforts of the State Governments through various schemes/ programmes.\n",
      "The various schemes/ programmes of the Government of India are meant for the welfare\n",
      "of farmers by increasing production, remunerative returns and income support tofarmers. A list of various initiatives taken by the Government is given in the Statement\n",
      "(See below). All these steps of the Government of India are for the welfare of the\n",
      "\n",
      "farmers of the country.\n",
      "The details of area coverage and production of food grains and commercial/ cash/High Value Remunerative crops are given as under:-\n",
      "YearArea Coverage (in lakhs/hect.)Production (in lakhs/tonnes)\n",
      "Food GrainsCommercial/Food GrainsCommercial/Cash CropsCash Crops\n",
      "2015-1612327.8\n",
      "2515105.2\n",
      "2019-20 (prov.)\n",
      "12766.82966\n",
      "99.1High Value Remunerative Crops\n",
      "YearArea Coverage (in lakhs/hect)Production (in lakhs/tonnes)\n",
      "2015-16225.71217.9\n",
      "2018-19 (prov.)\n",
      "241.11352.3\n",
      "\n"
     ]
    },
    {
     "name": "stderr",
     "output_type": "stream",
     "text": [
      "PdfReadWarning: Xref table not zero-indexed. ID numbers for objects will be corrected. [pdf.py:1736]\n"
     ]
    }
   ],
   "source": [
    "with open('F23.09.2020.pdf','rb') as file_254:\n",
    "    reader = PyPDF2.PdfFileReader(file_254)\n",
    "    page_1 = reader.getPage(34)\n",
    "    text = page_1.extractText()\n",
    "    print(text)"
   ]
  },
  {
   "cell_type": "code",
   "execution_count": 3,
   "metadata": {},
   "outputs": [],
   "source": [
    "#rex = re.compile(\"(SHRI)(.*)\".re.DOTALL)\n",
    "#re.search(\"SHRI\", text).group(0)"
   ]
  },
  {
   "cell_type": "code",
   "execution_count": 11,
   "metadata": {},
   "outputs": [
    {
     "name": "stdout",
     "output_type": "stream",
     "text": [
      "\n"
     ]
    }
   ],
   "source": [
    "with open('Daily_Questions_list.pdf','rb') as Daily_questions:\n",
    "    reader = PyPDF2.PdfFileReader(Daily_questions)\n",
    "    page_1 = reader.getPage(4)\n",
    "    text = page_1.extractText()\n",
    "    print(text)"
   ]
  },
  {
   "cell_type": "markdown",
   "metadata": {},
   "source": [
    "http://164.100.47.5/newsite/floor_official_debate/floor_official_debate.aspx\n",
    "https://rajyasabha.nic.in/rsnew/question/question_statistical.asp  \n",
    "https://rsdebate.nic.in/browse?type=sessionnumber&sort_by=1&order=DESC&rpp=20&value=252"
   ]
  },
  {
   "cell_type": "code",
   "execution_count": null,
   "metadata": {},
   "outputs": [],
   "source": []
  }
 ],
 "metadata": {
  "kernelspec": {
   "display_name": "Python 3",
   "language": "python",
   "name": "python3"
  },
  "language_info": {
   "codemirror_mode": {
    "name": "ipython",
    "version": 3
   },
   "file_extension": ".py",
   "mimetype": "text/x-python",
   "name": "python",
   "nbconvert_exporter": "python",
   "pygments_lexer": "ipython3",
   "version": "3.8.3"
  }
 },
 "nbformat": 4,
 "nbformat_minor": 4
}
